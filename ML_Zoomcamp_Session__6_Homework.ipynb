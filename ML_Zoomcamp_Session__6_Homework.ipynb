{
  "nbformat": 4,
  "nbformat_minor": 0,
  "metadata": {
    "colab": {
      "provenance": [],
      "collapsed_sections": [],
      "mount_file_id": "1s8teDWDZ2yZ-eusLxDVSTwX_sfkuk738",
      "authorship_tag": "ABX9TyOOGbSilhVBohh2qa70Ahay",
      "include_colab_link": true
    },
    "kernelspec": {
      "name": "python3",
      "display_name": "Python 3"
    },
    "language_info": {
      "name": "python"
    }
  },
  "cells": [
    {
      "cell_type": "markdown",
      "metadata": {
        "id": "view-in-github",
        "colab_type": "text"
      },
      "source": [
        "<a href=\"https://colab.research.google.com/github/subair99/ML_Zoomcamp_2022/blob/main/ML_Zoomcamp_Session__6_Homework.ipynb\" target=\"_parent\"><img src=\"https://colab.research.google.com/assets/colab-badge.svg\" alt=\"Open In Colab\"/></a>"
      ]
    },
    {
      "cell_type": "code",
      "source": [
        "from google.colab import drive\n",
        "drive.mount('/content/drive')\n",
        "%cd /content/drive/MyDrive/Colab Notebooks"
      ],
      "metadata": {
        "id": "2j90S2L5I5K8",
        "colab": {
          "base_uri": "https://localhost:8080/"
        },
        "outputId": "a2ba68b9-bd0b-4fb2-a30a-f345d18892a6"
      },
      "execution_count": 1,
      "outputs": [
        {
          "output_type": "stream",
          "name": "stdout",
          "text": [
            "Mounted at /content/drive\n",
            "/content/drive/MyDrive/Colab Notebooks\n"
          ]
        }
      ]
    },
    {
      "cell_type": "markdown",
      "source": [
        "### HOMEWORK\n",
        "The goal of this homework is to create a regression model for predicting housing prices (column 'median_house_value').\n",
        "\n",
        "In this homework we'll again use the California Housing Prices dataset - the same one we used in homework 2 and 3.\n",
        "\n",
        "You can take it from Kaggle or download using wget link mentioned below:\n",
        "\n",
        "    wget https://raw.githubusercontent.com/alexeygrigorev/datasets/master/housing.csv"
      ],
      "metadata": {
        "id": "wBGpyifm3Hxl"
      }
    },
    {
      "cell_type": "code",
      "source": [
        "# IMPORTING LIBRARIES AND DEPENDENCIES:\n",
        "import re\n",
        "import numpy as np\n",
        "import pandas as pd\n",
        "import seaborn as sns\n",
        "import xgboost as xgb\n",
        "import matplotlib.pyplot as plt\n",
        "from tqdm.auto import tqdm\n",
        "from sklearn.tree import DecisionTreeRegressor\n",
        "from sklearn.tree import export_text\n",
        "from sklearn.feature_extraction import DictVectorizer\n",
        "from sklearn.model_selection import train_test_split\n",
        "from sklearn.ensemble import RandomForestRegressor\n",
        "from sklearn.metrics import mean_squared_error\n",
        "from sklearn import tree\n",
        "\n",
        "%matplotlib inline"
      ],
      "metadata": {
        "id": "MEYQtA27voTj"
      },
      "execution_count": 2,
      "outputs": []
    },
    {
      "cell_type": "code",
      "source": [
        "# READING DATASET:\n",
        "PATH = 'ML_Zoomcamp_Session_#6_data.csv'\n",
        "select_cols = [\"longitude\", \"latitude\", \"housing_median_age\", \"total_rooms\", \"total_bedrooms\", \"population\", \"households\", \n",
        "               \"median_income\", \"median_house_value\", \"ocean_proximity\"]\n",
        "df = pd.read_csv(PATH, usecols=select_cols)\n",
        "df.total_bedrooms = df.total_bedrooms.fillna(0)\n",
        "df.isnull().sum()"
      ],
      "metadata": {
        "colab": {
          "base_uri": "https://localhost:8080/"
        },
        "id": "yQMXFwrv6uma",
        "outputId": "3d7b459d-daed-44b5-cac7-470a9ef42dbb"
      },
      "execution_count": 3,
      "outputs": [
        {
          "output_type": "execute_result",
          "data": {
            "text/plain": [
              "longitude             0\n",
              "latitude              0\n",
              "housing_median_age    0\n",
              "total_rooms           0\n",
              "total_bedrooms        0\n",
              "population            0\n",
              "households            0\n",
              "median_income         0\n",
              "median_house_value    0\n",
              "ocean_proximity       0\n",
              "dtype: int64"
            ]
          },
          "metadata": {},
          "execution_count": 3
        }
      ]
    },
    {
      "cell_type": "code",
      "source": [
        "df.info()"
      ],
      "metadata": {
        "colab": {
          "base_uri": "https://localhost:8080/"
        },
        "id": "sNF6ngZKSVbx",
        "outputId": "6d73939b-2630-40f2-993f-a5fdb1dc4421"
      },
      "execution_count": 4,
      "outputs": [
        {
          "output_type": "stream",
          "name": "stdout",
          "text": [
            "<class 'pandas.core.frame.DataFrame'>\n",
            "RangeIndex: 20640 entries, 0 to 20639\n",
            "Data columns (total 10 columns):\n",
            " #   Column              Non-Null Count  Dtype  \n",
            "---  ------              --------------  -----  \n",
            " 0   longitude           20640 non-null  float64\n",
            " 1   latitude            20640 non-null  float64\n",
            " 2   housing_median_age  20640 non-null  float64\n",
            " 3   total_rooms         20640 non-null  float64\n",
            " 4   total_bedrooms      20640 non-null  float64\n",
            " 5   population          20640 non-null  float64\n",
            " 6   households          20640 non-null  float64\n",
            " 7   median_income       20640 non-null  float64\n",
            " 8   median_house_value  20640 non-null  float64\n",
            " 9   ocean_proximity     20640 non-null  object \n",
            "dtypes: float64(9), object(1)\n",
            "memory usage: 1.6+ MB\n"
          ]
        }
      ]
    },
    {
      "cell_type": "markdown",
      "source": [
        "1. Apply the log transform to median_house_value.\n",
        "2. Do train/validation/test split with 60%/20%/20% distribution.\n",
        "3. Use the train_test_split function and set the random_state parameter to 1."
      ],
      "metadata": {
        "id": "ESzb8duu77O2"
      }
    },
    {
      "cell_type": "code",
      "source": [
        "num_col = [\"housing_median_age\", \"total_rooms\", \"total_bedrooms\", \n",
        "           \"population\", \"households\", \"median_income\", \"median_house_value\"]\n",
        "\n",
        "for col in num_col:\n",
        "  df[col] = np.log1p(df[col])"
      ],
      "metadata": {
        "id": "OJegkWGn8BdL"
      },
      "execution_count": 5,
      "outputs": []
    },
    {
      "cell_type": "code",
      "source": [
        "# SPLITTING THE DATASET FOR TRAINING AND TEST:\n",
        "df_full_train, df_test = train_test_split(df, test_size=0.2, random_state=1)\n",
        "df_train, df_val = train_test_split(df_full_train, test_size=0.25, random_state=1)\n",
        "\n",
        "# Reset index\n",
        "df_train.reset_index(drop=True)\n",
        "df_val.reset_index(drop=True)\n",
        "df_test.reset_index(drop=True)"
      ],
      "metadata": {
        "colab": {
          "base_uri": "https://localhost:8080/",
          "height": 424
        },
        "id": "A9EoRIWM9dVd",
        "outputId": "37d08f6f-2e91-4c61-8702-810a0b35c35a"
      },
      "execution_count": 6,
      "outputs": [
        {
          "output_type": "execute_result",
          "data": {
            "text/plain": [
              "      longitude  latitude  housing_median_age  total_rooms  total_bedrooms  \\\n",
              "0       -118.36     34.06            3.688879     7.941296        6.508769   \n",
              "1       -119.78     36.78            3.637586     7.689829        6.122493   \n",
              "2       -122.42     37.73            3.850148     7.506592        6.021023   \n",
              "3       -122.28     37.81            3.970292     5.831882        4.584967   \n",
              "4       -118.13     33.82            3.637586     7.333676        5.673323   \n",
              "...         ...       ...                 ...          ...             ...   \n",
              "4123    -119.70     36.82            3.258097     7.774856        6.293419   \n",
              "4124    -118.44     34.04            3.912023     3.496508        2.079442   \n",
              "4125    -122.37     37.60            3.295837     2.772589        1.386294   \n",
              "4126    -118.10     34.09            3.761200     7.286876        5.669881   \n",
              "4127    -117.38     33.99            3.970292     7.494430        5.808142   \n",
              "\n",
              "      population  households  median_income  median_house_value  \\\n",
              "0       7.012115    6.437752       1.446919           12.779876   \n",
              "1       7.042286    6.084499       1.091386           11.166215   \n",
              "2       7.336286    6.008813       1.612074           12.343227   \n",
              "3       5.303305    4.477337       0.924576           11.630717   \n",
              "4       6.568078    5.648974       1.821237           12.325636   \n",
              "...          ...         ...            ...                 ...   \n",
              "4123    7.301822    6.184149       1.199151           11.130215   \n",
              "4124    2.708050    2.079442       1.159237           12.323860   \n",
              "4125    2.484907    1.386294       1.799728           12.765691   \n",
              "4126    6.721426    5.613128       1.770706           12.334030   \n",
              "4127    6.809039    5.749393       1.309791           11.861474   \n",
              "\n",
              "     ocean_proximity  \n",
              "0          <1H OCEAN  \n",
              "1             INLAND  \n",
              "2           NEAR BAY  \n",
              "3           NEAR BAY  \n",
              "4          <1H OCEAN  \n",
              "...              ...  \n",
              "4123          INLAND  \n",
              "4124       <1H OCEAN  \n",
              "4125      NEAR OCEAN  \n",
              "4126       <1H OCEAN  \n",
              "4127          INLAND  \n",
              "\n",
              "[4128 rows x 10 columns]"
            ],
            "text/html": [
              "\n",
              "  <div id=\"df-99d2286a-5bf7-4b76-a8be-fea9efdc866c\">\n",
              "    <div class=\"colab-df-container\">\n",
              "      <div>\n",
              "<style scoped>\n",
              "    .dataframe tbody tr th:only-of-type {\n",
              "        vertical-align: middle;\n",
              "    }\n",
              "\n",
              "    .dataframe tbody tr th {\n",
              "        vertical-align: top;\n",
              "    }\n",
              "\n",
              "    .dataframe thead th {\n",
              "        text-align: right;\n",
              "    }\n",
              "</style>\n",
              "<table border=\"1\" class=\"dataframe\">\n",
              "  <thead>\n",
              "    <tr style=\"text-align: right;\">\n",
              "      <th></th>\n",
              "      <th>longitude</th>\n",
              "      <th>latitude</th>\n",
              "      <th>housing_median_age</th>\n",
              "      <th>total_rooms</th>\n",
              "      <th>total_bedrooms</th>\n",
              "      <th>population</th>\n",
              "      <th>households</th>\n",
              "      <th>median_income</th>\n",
              "      <th>median_house_value</th>\n",
              "      <th>ocean_proximity</th>\n",
              "    </tr>\n",
              "  </thead>\n",
              "  <tbody>\n",
              "    <tr>\n",
              "      <th>0</th>\n",
              "      <td>-118.36</td>\n",
              "      <td>34.06</td>\n",
              "      <td>3.688879</td>\n",
              "      <td>7.941296</td>\n",
              "      <td>6.508769</td>\n",
              "      <td>7.012115</td>\n",
              "      <td>6.437752</td>\n",
              "      <td>1.446919</td>\n",
              "      <td>12.779876</td>\n",
              "      <td>&lt;1H OCEAN</td>\n",
              "    </tr>\n",
              "    <tr>\n",
              "      <th>1</th>\n",
              "      <td>-119.78</td>\n",
              "      <td>36.78</td>\n",
              "      <td>3.637586</td>\n",
              "      <td>7.689829</td>\n",
              "      <td>6.122493</td>\n",
              "      <td>7.042286</td>\n",
              "      <td>6.084499</td>\n",
              "      <td>1.091386</td>\n",
              "      <td>11.166215</td>\n",
              "      <td>INLAND</td>\n",
              "    </tr>\n",
              "    <tr>\n",
              "      <th>2</th>\n",
              "      <td>-122.42</td>\n",
              "      <td>37.73</td>\n",
              "      <td>3.850148</td>\n",
              "      <td>7.506592</td>\n",
              "      <td>6.021023</td>\n",
              "      <td>7.336286</td>\n",
              "      <td>6.008813</td>\n",
              "      <td>1.612074</td>\n",
              "      <td>12.343227</td>\n",
              "      <td>NEAR BAY</td>\n",
              "    </tr>\n",
              "    <tr>\n",
              "      <th>3</th>\n",
              "      <td>-122.28</td>\n",
              "      <td>37.81</td>\n",
              "      <td>3.970292</td>\n",
              "      <td>5.831882</td>\n",
              "      <td>4.584967</td>\n",
              "      <td>5.303305</td>\n",
              "      <td>4.477337</td>\n",
              "      <td>0.924576</td>\n",
              "      <td>11.630717</td>\n",
              "      <td>NEAR BAY</td>\n",
              "    </tr>\n",
              "    <tr>\n",
              "      <th>4</th>\n",
              "      <td>-118.13</td>\n",
              "      <td>33.82</td>\n",
              "      <td>3.637586</td>\n",
              "      <td>7.333676</td>\n",
              "      <td>5.673323</td>\n",
              "      <td>6.568078</td>\n",
              "      <td>5.648974</td>\n",
              "      <td>1.821237</td>\n",
              "      <td>12.325636</td>\n",
              "      <td>&lt;1H OCEAN</td>\n",
              "    </tr>\n",
              "    <tr>\n",
              "      <th>...</th>\n",
              "      <td>...</td>\n",
              "      <td>...</td>\n",
              "      <td>...</td>\n",
              "      <td>...</td>\n",
              "      <td>...</td>\n",
              "      <td>...</td>\n",
              "      <td>...</td>\n",
              "      <td>...</td>\n",
              "      <td>...</td>\n",
              "      <td>...</td>\n",
              "    </tr>\n",
              "    <tr>\n",
              "      <th>4123</th>\n",
              "      <td>-119.70</td>\n",
              "      <td>36.82</td>\n",
              "      <td>3.258097</td>\n",
              "      <td>7.774856</td>\n",
              "      <td>6.293419</td>\n",
              "      <td>7.301822</td>\n",
              "      <td>6.184149</td>\n",
              "      <td>1.199151</td>\n",
              "      <td>11.130215</td>\n",
              "      <td>INLAND</td>\n",
              "    </tr>\n",
              "    <tr>\n",
              "      <th>4124</th>\n",
              "      <td>-118.44</td>\n",
              "      <td>34.04</td>\n",
              "      <td>3.912023</td>\n",
              "      <td>3.496508</td>\n",
              "      <td>2.079442</td>\n",
              "      <td>2.708050</td>\n",
              "      <td>2.079442</td>\n",
              "      <td>1.159237</td>\n",
              "      <td>12.323860</td>\n",
              "      <td>&lt;1H OCEAN</td>\n",
              "    </tr>\n",
              "    <tr>\n",
              "      <th>4125</th>\n",
              "      <td>-122.37</td>\n",
              "      <td>37.60</td>\n",
              "      <td>3.295837</td>\n",
              "      <td>2.772589</td>\n",
              "      <td>1.386294</td>\n",
              "      <td>2.484907</td>\n",
              "      <td>1.386294</td>\n",
              "      <td>1.799728</td>\n",
              "      <td>12.765691</td>\n",
              "      <td>NEAR OCEAN</td>\n",
              "    </tr>\n",
              "    <tr>\n",
              "      <th>4126</th>\n",
              "      <td>-118.10</td>\n",
              "      <td>34.09</td>\n",
              "      <td>3.761200</td>\n",
              "      <td>7.286876</td>\n",
              "      <td>5.669881</td>\n",
              "      <td>6.721426</td>\n",
              "      <td>5.613128</td>\n",
              "      <td>1.770706</td>\n",
              "      <td>12.334030</td>\n",
              "      <td>&lt;1H OCEAN</td>\n",
              "    </tr>\n",
              "    <tr>\n",
              "      <th>4127</th>\n",
              "      <td>-117.38</td>\n",
              "      <td>33.99</td>\n",
              "      <td>3.970292</td>\n",
              "      <td>7.494430</td>\n",
              "      <td>5.808142</td>\n",
              "      <td>6.809039</td>\n",
              "      <td>5.749393</td>\n",
              "      <td>1.309791</td>\n",
              "      <td>11.861474</td>\n",
              "      <td>INLAND</td>\n",
              "    </tr>\n",
              "  </tbody>\n",
              "</table>\n",
              "<p>4128 rows × 10 columns</p>\n",
              "</div>\n",
              "      <button class=\"colab-df-convert\" onclick=\"convertToInteractive('df-99d2286a-5bf7-4b76-a8be-fea9efdc866c')\"\n",
              "              title=\"Convert this dataframe to an interactive table.\"\n",
              "              style=\"display:none;\">\n",
              "        \n",
              "  <svg xmlns=\"http://www.w3.org/2000/svg\" height=\"24px\"viewBox=\"0 0 24 24\"\n",
              "       width=\"24px\">\n",
              "    <path d=\"M0 0h24v24H0V0z\" fill=\"none\"/>\n",
              "    <path d=\"M18.56 5.44l.94 2.06.94-2.06 2.06-.94-2.06-.94-.94-2.06-.94 2.06-2.06.94zm-11 1L8.5 8.5l.94-2.06 2.06-.94-2.06-.94L8.5 2.5l-.94 2.06-2.06.94zm10 10l.94 2.06.94-2.06 2.06-.94-2.06-.94-.94-2.06-.94 2.06-2.06.94z\"/><path d=\"M17.41 7.96l-1.37-1.37c-.4-.4-.92-.59-1.43-.59-.52 0-1.04.2-1.43.59L10.3 9.45l-7.72 7.72c-.78.78-.78 2.05 0 2.83L4 21.41c.39.39.9.59 1.41.59.51 0 1.02-.2 1.41-.59l7.78-7.78 2.81-2.81c.8-.78.8-2.07 0-2.86zM5.41 20L4 18.59l7.72-7.72 1.47 1.35L5.41 20z\"/>\n",
              "  </svg>\n",
              "      </button>\n",
              "      \n",
              "  <style>\n",
              "    .colab-df-container {\n",
              "      display:flex;\n",
              "      flex-wrap:wrap;\n",
              "      gap: 12px;\n",
              "    }\n",
              "\n",
              "    .colab-df-convert {\n",
              "      background-color: #E8F0FE;\n",
              "      border: none;\n",
              "      border-radius: 50%;\n",
              "      cursor: pointer;\n",
              "      display: none;\n",
              "      fill: #1967D2;\n",
              "      height: 32px;\n",
              "      padding: 0 0 0 0;\n",
              "      width: 32px;\n",
              "    }\n",
              "\n",
              "    .colab-df-convert:hover {\n",
              "      background-color: #E2EBFA;\n",
              "      box-shadow: 0px 1px 2px rgba(60, 64, 67, 0.3), 0px 1px 3px 1px rgba(60, 64, 67, 0.15);\n",
              "      fill: #174EA6;\n",
              "    }\n",
              "\n",
              "    [theme=dark] .colab-df-convert {\n",
              "      background-color: #3B4455;\n",
              "      fill: #D2E3FC;\n",
              "    }\n",
              "\n",
              "    [theme=dark] .colab-df-convert:hover {\n",
              "      background-color: #434B5C;\n",
              "      box-shadow: 0px 1px 3px 1px rgba(0, 0, 0, 0.15);\n",
              "      filter: drop-shadow(0px 1px 2px rgba(0, 0, 0, 0.3));\n",
              "      fill: #FFFFFF;\n",
              "    }\n",
              "  </style>\n",
              "\n",
              "      <script>\n",
              "        const buttonEl =\n",
              "          document.querySelector('#df-99d2286a-5bf7-4b76-a8be-fea9efdc866c button.colab-df-convert');\n",
              "        buttonEl.style.display =\n",
              "          google.colab.kernel.accessAllowed ? 'block' : 'none';\n",
              "\n",
              "        async function convertToInteractive(key) {\n",
              "          const element = document.querySelector('#df-99d2286a-5bf7-4b76-a8be-fea9efdc866c');\n",
              "          const dataTable =\n",
              "            await google.colab.kernel.invokeFunction('convertToInteractive',\n",
              "                                                     [key], {});\n",
              "          if (!dataTable) return;\n",
              "\n",
              "          const docLinkHtml = 'Like what you see? Visit the ' +\n",
              "            '<a target=\"_blank\" href=https://colab.research.google.com/notebooks/data_table.ipynb>data table notebook</a>'\n",
              "            + ' to learn more about interactive tables.';\n",
              "          element.innerHTML = '';\n",
              "          dataTable['output_type'] = 'display_data';\n",
              "          await google.colab.output.renderOutput(dataTable, element);\n",
              "          const docLink = document.createElement('div');\n",
              "          docLink.innerHTML = docLinkHtml;\n",
              "          element.appendChild(docLink);\n",
              "        }\n",
              "      </script>\n",
              "    </div>\n",
              "  </div>\n",
              "  "
            ]
          },
          "metadata": {},
          "execution_count": 6
        }
      ]
    },
    {
      "cell_type": "markdown",
      "source": [
        "1. We will use DictVectorizer to turn train and validation into matrices."
      ],
      "metadata": {
        "id": "MoyZZ-IiAvNx"
      }
    },
    {
      "cell_type": "code",
      "source": [
        "# IMPLEMENTATION OF DICTVECTORIZER:\n",
        "train_dict = df_train.to_dict(orient='records')\n",
        "val_dict = df_val.to_dict(orient='records')\n",
        "\n",
        "dv = DictVectorizer()\n",
        "X_train = dv.fit_transform(train_dict)\n",
        "X_val = dv.fit_transform(val_dict)\n",
        "\n",
        "y_train = df_train.median_house_value.values\n",
        "y_val = df_val.median_house_value.values\n",
        "\n",
        "del df_train['median_house_value']\n",
        "del df_val['median_house_value']"
      ],
      "metadata": {
        "id": "ILJmprjU-3t8"
      },
      "execution_count": 7,
      "outputs": []
    },
    {
      "cell_type": "markdown",
      "source": [
        "### Question 1\n",
        "1. Let's train a decision tree regressor to predict the median_house_value variable.\n",
        "\n",
        "2. Train a model with max_depth=1."
      ],
      "metadata": {
        "id": "UErKbNLRVmLc"
      }
    },
    {
      "cell_type": "code",
      "source": [
        "# TRAINING THE REGRESSION MODEL:\n",
        "dt = DecisionTreeRegressor(max_depth=1)\n",
        "dt.fit(X_train, y_train)"
      ],
      "metadata": {
        "colab": {
          "base_uri": "https://localhost:8080/"
        },
        "id": "geGTSsXFG0Zh",
        "outputId": "56edca9a-0609-4c7e-9073-9be696e28232"
      },
      "execution_count": 8,
      "outputs": [
        {
          "output_type": "execute_result",
          "data": {
            "text/plain": [
              "DecisionTreeRegressor(max_depth=1)"
            ]
          },
          "metadata": {},
          "execution_count": 8
        }
      ]
    },
    {
      "cell_type": "code",
      "source": [
        "# INSPECTION:\n",
        "print(export_text(dt, feature_names=dv.get_feature_names()))"
      ],
      "metadata": {
        "colab": {
          "base_uri": "https://localhost:8080/"
        },
        "id": "2Mr_-DuQSN8m",
        "outputId": "18f65798-bb02-4fd8-c581-2ff8503d2518"
      },
      "execution_count": 9,
      "outputs": [
        {
          "output_type": "stream",
          "name": "stdout",
          "text": [
            "|--- median_house_value <= 12.06\n",
            "|   |--- value: [11.60]\n",
            "|--- median_house_value >  12.06\n",
            "|   |--- value: [12.52]\n",
            "\n"
          ]
        },
        {
          "output_type": "stream",
          "name": "stderr",
          "text": [
            "/usr/local/lib/python3.7/dist-packages/sklearn/utils/deprecation.py:87: FutureWarning: Function get_feature_names is deprecated; get_feature_names is deprecated in 1.0 and will be removed in 1.2. Please use get_feature_names_out instead.\n",
            "  warnings.warn(msg, category=FutureWarning)\n"
          ]
        }
      ]
    },
    {
      "cell_type": "code",
      "source": [
        "# plot tree\n",
        "plt.figure(figsize=(10, 8))# set plot size (denoted in inches)\n",
        "tree.plot_tree(dt, fontsize=10)"
      ],
      "metadata": {
        "colab": {
          "base_uri": "https://localhost:8080/",
          "height": 518
        },
        "id": "TLzP-oVpNMLZ",
        "outputId": "a9b751b7-e291-4794-8344-fe1680bcf77e"
      },
      "execution_count": 10,
      "outputs": [
        {
          "output_type": "execute_result",
          "data": {
            "text/plain": [
              "[Text(0.5, 0.75, 'X[4] <= 12.062\\nsquared_error = 0.322\\nsamples = 12384\\nvalue = 12.088'),\n",
              " Text(0.25, 0.25, 'squared_error = 0.12\\nsamples = 5844\\nvalue = 11.603'),\n",
              " Text(0.75, 0.25, 'squared_error = 0.104\\nsamples = 6540\\nvalue = 12.522')]"
            ]
          },
          "metadata": {},
          "execution_count": 10
        },
        {
          "output_type": "display_data",
          "data": {
            "text/plain": [
              "<Figure size 720x576 with 1 Axes>"
            ],
            "image/png": "[encoded data removed]"
          },
          "metadata": {
            "needs_background": "light"
          }
        }
      ]
    },
    {
      "cell_type": "code",
      "source": [
        "df.columns[4]"
      ],
      "metadata": {
        "colab": {
          "base_uri": "https://localhost:8080/",
          "height": 35
        },
        "id": "ZMg5s3C2OFMB",
        "outputId": "9b8d1ea3-a39c-483d-c77d-558629082d9e"
      },
      "execution_count": 11,
      "outputs": [
        {
          "output_type": "execute_result",
          "data": {
            "text/plain": [
              "'total_bedrooms'"
            ],
            "application/vnd.google.colaboratory.intrinsic+json": {
              "type": "string"
            }
          },
          "metadata": {},
          "execution_count": 11
        }
      ]
    },
    {
      "cell_type": "markdown",
      "source": [
        "Answer: total_rooms"
      ],
      "metadata": {
        "id": "igw-GVpPOAmY"
      }
    },
    {
      "cell_type": "markdown",
      "source": [
        "### Question 2\n",
        "Train a random forest model with these parameters:\n",
        "\n",
        "1. n_estimators=10\n",
        "2. random_state=1\n",
        "3. n_jobs=-1 (optional-to make training faster)"
      ],
      "metadata": {
        "id": "UCxt6P0EV7_m"
      }
    },
    {
      "cell_type": "code",
      "source": [
        "# TRAINING RANDOM FOREST MODEL:\n",
        "rf2 = RandomForestRegressor(n_estimators=10, random_state=1, n_jobs=-1)"
      ],
      "metadata": {
        "id": "W0C3LvhKJb92"
      },
      "execution_count": 12,
      "outputs": []
    },
    {
      "cell_type": "code",
      "source": [
        "# CALCULATING MEAN SQUARED ERROR:\n",
        "rf2.fit(X_train, y_train)\n",
        "pred_val = rf2.predict(X_val)\n",
        "RMSE_val = mean_squared_error(y_val, pred_val)\n",
        "print('RMSE_val:', RMSE_val)"
      ],
      "metadata": {
        "colab": {
          "base_uri": "https://localhost:8080/"
        },
        "id": "mnD87-UTUcN9",
        "outputId": "ff74dedd-d999-4dd8-f0ab-e7ac691de4cc"
      },
      "execution_count": 13,
      "outputs": [
        {
          "output_type": "stream",
          "name": "stdout",
          "text": [
            "RMSE_val: 5.0903473484561065e-06\n"
          ]
        }
      ]
    },
    {
      "cell_type": "markdown",
      "source": [
        "What's the RMSE of this model on validation?"
      ],
      "metadata": {
        "id": "iTsAZWyvUj9t"
      }
    },
    {
      "cell_type": "markdown",
      "source": [
        "Answer: 0.05"
      ],
      "metadata": {
        "id": "XuC06FbaeZGH"
      }
    },
    {
      "cell_type": "markdown",
      "source": [
        "### Question 3\n",
        "Now, let's experiment with the n_estimators parameter.\n",
        "\n",
        "1. Try different values of this parameter from 10 to 200 with step 10.\n",
        "2. Set random_state to 1.\n",
        "3. Evaluate the model on the validation dataset."
      ],
      "metadata": {
        "id": "QpLxUTFpcMwe"
      }
    },
    {
      "cell_type": "code",
      "source": [
        "# TRAINING THE MODEL WITH n_estimators:\n",
        "n_est = range(10, 201, 10)\n",
        "scores_ne = []\n",
        "\n",
        "for n in n_est:\n",
        "  rf3 = RandomForestRegressor(n_estimators=n, random_state=1, n_jobs=-1)\n",
        "  rf3.fit(X_train, y_train)\n",
        "\n",
        "  pred_val = rf3.predict(X_val)\n",
        "  RMSE_val = mean_squared_error(y_val, pred_val)\n",
        "  scores_ne.append((n, RMSE_val))"
      ],
      "metadata": {
        "id": "eCfFKvtOXxgg"
      },
      "execution_count": 14,
      "outputs": []
    },
    {
      "cell_type": "code",
      "source": [
        "columns_ne = ['n_estimators', 'RMSE_ne']\n",
        "df_scores_ne = pd.DataFrame(scores_ne, columns=columns_ne)\n",
        "df_scores_ne.head()"
      ],
      "metadata": {
        "colab": {
          "base_uri": "https://localhost:8080/",
          "height": 206
        },
        "id": "erMVrtoDetQB",
        "outputId": "8eb039ee-118d-4361-d251-ed70c83d63f5"
      },
      "execution_count": 15,
      "outputs": [
        {
          "output_type": "execute_result",
          "data": {
            "text/plain": [
              "   n_estimators       RMSE_ne\n",
              "0            10  5.090347e-06\n",
              "1            20  4.010613e-06\n",
              "2            30  1.373506e-06\n",
              "3            40  1.152032e-06\n",
              "4            50  8.879524e-07"
            ],
            "text/html": [
              "\n",
              "  <div id=\"df-ebac74e8-2525-4a1a-b169-21ac0d937e00\">\n",
              "    <div class=\"colab-df-container\">\n",
              "      <div>\n",
              "<style scoped>\n",
              "    .dataframe tbody tr th:only-of-type {\n",
              "        vertical-align: middle;\n",
              "    }\n",
              "\n",
              "    .dataframe tbody tr th {\n",
              "        vertical-align: top;\n",
              "    }\n",
              "\n",
              "    .dataframe thead th {\n",
              "        text-align: right;\n",
              "    }\n",
              "</style>\n",
              "<table border=\"1\" class=\"dataframe\">\n",
              "  <thead>\n",
              "    <tr style=\"text-align: right;\">\n",
              "      <th></th>\n",
              "      <th>n_estimators</th>\n",
              "      <th>RMSE_ne</th>\n",
              "    </tr>\n",
              "  </thead>\n",
              "  <tbody>\n",
              "    <tr>\n",
              "      <th>0</th>\n",
              "      <td>10</td>\n",
              "      <td>5.090347e-06</td>\n",
              "    </tr>\n",
              "    <tr>\n",
              "      <th>1</th>\n",
              "      <td>20</td>\n",
              "      <td>4.010613e-06</td>\n",
              "    </tr>\n",
              "    <tr>\n",
              "      <th>2</th>\n",
              "      <td>30</td>\n",
              "      <td>1.373506e-06</td>\n",
              "    </tr>\n",
              "    <tr>\n",
              "      <th>3</th>\n",
              "      <td>40</td>\n",
              "      <td>1.152032e-06</td>\n",
              "    </tr>\n",
              "    <tr>\n",
              "      <th>4</th>\n",
              "      <td>50</td>\n",
              "      <td>8.879524e-07</td>\n",
              "    </tr>\n",
              "  </tbody>\n",
              "</table>\n",
              "</div>\n",
              "      <button class=\"colab-df-convert\" onclick=\"convertToInteractive('df-ebac74e8-2525-4a1a-b169-21ac0d937e00')\"\n",
              "              title=\"Convert this dataframe to an interactive table.\"\n",
              "              style=\"display:none;\">\n",
              "        \n",
              "  <svg xmlns=\"http://www.w3.org/2000/svg\" height=\"24px\"viewBox=\"0 0 24 24\"\n",
              "       width=\"24px\">\n",
              "    <path d=\"M0 0h24v24H0V0z\" fill=\"none\"/>\n",
              "    <path d=\"M18.56 5.44l.94 2.06.94-2.06 2.06-.94-2.06-.94-.94-2.06-.94 2.06-2.06.94zm-11 1L8.5 8.5l.94-2.06 2.06-.94-2.06-.94L8.5 2.5l-.94 2.06-2.06.94zm10 10l.94 2.06.94-2.06 2.06-.94-2.06-.94-.94-2.06-.94 2.06-2.06.94z\"/><path d=\"M17.41 7.96l-1.37-1.37c-.4-.4-.92-.59-1.43-.59-.52 0-1.04.2-1.43.59L10.3 9.45l-7.72 7.72c-.78.78-.78 2.05 0 2.83L4 21.41c.39.39.9.59 1.41.59.51 0 1.02-.2 1.41-.59l7.78-7.78 2.81-2.81c.8-.78.8-2.07 0-2.86zM5.41 20L4 18.59l7.72-7.72 1.47 1.35L5.41 20z\"/>\n",
              "  </svg>\n",
              "      </button>\n",
              "      \n",
              "  <style>\n",
              "    .colab-df-container {\n",
              "      display:flex;\n",
              "      flex-wrap:wrap;\n",
              "      gap: 12px;\n",
              "    }\n",
              "\n",
              "    .colab-df-convert {\n",
              "      background-color: #E8F0FE;\n",
              "      border: none;\n",
              "      border-radius: 50%;\n",
              "      cursor: pointer;\n",
              "      display: none;\n",
              "      fill: #1967D2;\n",
              "      height: 32px;\n",
              "      padding: 0 0 0 0;\n",
              "      width: 32px;\n",
              "    }\n",
              "\n",
              "    .colab-df-convert:hover {\n",
              "      background-color: #E2EBFA;\n",
              "      box-shadow: 0px 1px 2px rgba(60, 64, 67, 0.3), 0px 1px 3px 1px rgba(60, 64, 67, 0.15);\n",
              "      fill: #174EA6;\n",
              "    }\n",
              "\n",
              "    [theme=dark] .colab-df-convert {\n",
              "      background-color: #3B4455;\n",
              "      fill: #D2E3FC;\n",
              "    }\n",
              "\n",
              "    [theme=dark] .colab-df-convert:hover {\n",
              "      background-color: #434B5C;\n",
              "      box-shadow: 0px 1px 3px 1px rgba(0, 0, 0, 0.15);\n",
              "      filter: drop-shadow(0px 1px 2px rgba(0, 0, 0, 0.3));\n",
              "      fill: #FFFFFF;\n",
              "    }\n",
              "  </style>\n",
              "\n",
              "      <script>\n",
              "        const buttonEl =\n",
              "          document.querySelector('#df-ebac74e8-2525-4a1a-b169-21ac0d937e00 button.colab-df-convert');\n",
              "        buttonEl.style.display =\n",
              "          google.colab.kernel.accessAllowed ? 'block' : 'none';\n",
              "\n",
              "        async function convertToInteractive(key) {\n",
              "          const element = document.querySelector('#df-ebac74e8-2525-4a1a-b169-21ac0d937e00');\n",
              "          const dataTable =\n",
              "            await google.colab.kernel.invokeFunction('convertToInteractive',\n",
              "                                                     [key], {});\n",
              "          if (!dataTable) return;\n",
              "\n",
              "          const docLinkHtml = 'Like what you see? Visit the ' +\n",
              "            '<a target=\"_blank\" href=https://colab.research.google.com/notebooks/data_table.ipynb>data table notebook</a>'\n",
              "            + ' to learn more about interactive tables.';\n",
              "          element.innerHTML = '';\n",
              "          dataTable['output_type'] = 'display_data';\n",
              "          await google.colab.output.renderOutput(dataTable, element);\n",
              "          const docLink = document.createElement('div');\n",
              "          docLink.innerHTML = docLinkHtml;\n",
              "          element.appendChild(docLink);\n",
              "        }\n",
              "      </script>\n",
              "    </div>\n",
              "  </div>\n",
              "  "
            ]
          },
          "metadata": {},
          "execution_count": 15
        }
      ]
    },
    {
      "cell_type": "code",
      "source": [
        "plt.plot(df_scores_ne.n_estimators, df_scores_ne.RMSE_ne)\n",
        "plt.xlabel('n_estimators')\n",
        "plt.ylabel('RMSE')\n",
        "plt.title('Graph of RMSE against n_estimators');"
      ],
      "metadata": {
        "colab": {
          "base_uri": "https://localhost:8080/",
          "height": 296
        },
        "id": "EaK1NCEQlRyd",
        "outputId": "e9e3184c-3f6e-4623-e4ec-224017d6454f"
      },
      "execution_count": 16,
      "outputs": [
        {
          "output_type": "display_data",
          "data": {
            "text/plain": [
              "<Figure size 432x288 with 1 Axes>"
            ],
            "image/png": "[encoded data removed]"
          },
          "metadata": {
            "needs_background": "light"
          }
        }
      ]
    },
    {
      "cell_type": "markdown",
      "source": [
        "After which value of n_estimators does RMSE stop improving?"
      ],
      "metadata": {
        "id": "YRW640ajo3lq"
      }
    },
    {
      "cell_type": "markdown",
      "source": [
        "Answer: 50"
      ],
      "metadata": {
        "id": "Y1BGaG7wee0_"
      }
    },
    {
      "cell_type": "markdown",
      "source": [
        "### Question 4\n",
        "Let's select the best max_depth:\n",
        "1. Try different values of max_depth: [10, 15, 20, 25].\n",
        "2. For each of these values, try different values of n_estimators from 10 till 200 (with step 10).\n",
        "3. Fix the random seed: random_state=1."
      ],
      "metadata": {
        "id": "lnK7NzGdesA2"
      }
    },
    {
      "cell_type": "code",
      "source": [
        "# TRAINING THE MODEL WITH DEPTH:\n",
        "max_depths = [10, 15, 20, 25]\n",
        "n_est = range(10, 201, 10)\n",
        "scores_md = []\n",
        "\n",
        "for d in max_depths:\n",
        "  for n in n_est:\n",
        "    rf4 = RandomForestRegressor(max_depth=d, n_estimators=n, random_state=1, n_jobs=-1)\n",
        "    rf4.fit(X_train, y_train)\n",
        "\n",
        "    pred_val = rf4.predict(X_val)\n",
        "    RMSE_val = mean_squared_error(y_val, pred_val)\n",
        "    scores_md.append((d, n, RMSE_val))"
      ],
      "metadata": {
        "id": "cxFBfC_XpSoY"
      },
      "execution_count": 17,
      "outputs": []
    },
    {
      "cell_type": "code",
      "source": [
        "columns_md = ['max_depth', 'n_estimators', 'scores_md']\n",
        "df_scores_md = pd.DataFrame(scores_md, columns=columns_md)\n",
        "df_scores_md.head()"
      ],
      "metadata": {
        "colab": {
          "base_uri": "https://localhost:8080/",
          "height": 206
        },
        "id": "oucu21h2qFOJ",
        "outputId": "dc6c1301-efb5-4eee-96c4-ccc4a7eb2e05"
      },
      "execution_count": 18,
      "outputs": [
        {
          "output_type": "execute_result",
          "data": {
            "text/plain": [
              "   max_depth  n_estimators     scores_md\n",
              "0         10            10  5.206371e-06\n",
              "1         10            20  4.095185e-06\n",
              "2         10            30  1.460580e-06\n",
              "3         10            40  1.227705e-06\n",
              "4         10            50  9.603460e-07"
            ],
            "text/html": [
              "\n",
              "  <div id=\"df-4fbac2eb-f79a-4ac4-b2c0-616d9cc357e6\">\n",
              "    <div class=\"colab-df-container\">\n",
              "      <div>\n",
              "<style scoped>\n",
              "    .dataframe tbody tr th:only-of-type {\n",
              "        vertical-align: middle;\n",
              "    }\n",
              "\n",
              "    .dataframe tbody tr th {\n",
              "        vertical-align: top;\n",
              "    }\n",
              "\n",
              "    .dataframe thead th {\n",
              "        text-align: right;\n",
              "    }\n",
              "</style>\n",
              "<table border=\"1\" class=\"dataframe\">\n",
              "  <thead>\n",
              "    <tr style=\"text-align: right;\">\n",
              "      <th></th>\n",
              "      <th>max_depth</th>\n",
              "      <th>n_estimators</th>\n",
              "      <th>scores_md</th>\n",
              "    </tr>\n",
              "  </thead>\n",
              "  <tbody>\n",
              "    <tr>\n",
              "      <th>0</th>\n",
              "      <td>10</td>\n",
              "      <td>10</td>\n",
              "      <td>5.206371e-06</td>\n",
              "    </tr>\n",
              "    <tr>\n",
              "      <th>1</th>\n",
              "      <td>10</td>\n",
              "      <td>20</td>\n",
              "      <td>4.095185e-06</td>\n",
              "    </tr>\n",
              "    <tr>\n",
              "      <th>2</th>\n",
              "      <td>10</td>\n",
              "      <td>30</td>\n",
              "      <td>1.460580e-06</td>\n",
              "    </tr>\n",
              "    <tr>\n",
              "      <th>3</th>\n",
              "      <td>10</td>\n",
              "      <td>40</td>\n",
              "      <td>1.227705e-06</td>\n",
              "    </tr>\n",
              "    <tr>\n",
              "      <th>4</th>\n",
              "      <td>10</td>\n",
              "      <td>50</td>\n",
              "      <td>9.603460e-07</td>\n",
              "    </tr>\n",
              "  </tbody>\n",
              "</table>\n",
              "</div>\n",
              "      <button class=\"colab-df-convert\" onclick=\"convertToInteractive('df-4fbac2eb-f79a-4ac4-b2c0-616d9cc357e6')\"\n",
              "              title=\"Convert this dataframe to an interactive table.\"\n",
              "              style=\"display:none;\">\n",
              "        \n",
              "  <svg xmlns=\"http://www.w3.org/2000/svg\" height=\"24px\"viewBox=\"0 0 24 24\"\n",
              "       width=\"24px\">\n",
              "    <path d=\"M0 0h24v24H0V0z\" fill=\"none\"/>\n",
              "    <path d=\"M18.56 5.44l.94 2.06.94-2.06 2.06-.94-2.06-.94-.94-2.06-.94 2.06-2.06.94zm-11 1L8.5 8.5l.94-2.06 2.06-.94-2.06-.94L8.5 2.5l-.94 2.06-2.06.94zm10 10l.94 2.06.94-2.06 2.06-.94-2.06-.94-.94-2.06-.94 2.06-2.06.94z\"/><path d=\"M17.41 7.96l-1.37-1.37c-.4-.4-.92-.59-1.43-.59-.52 0-1.04.2-1.43.59L10.3 9.45l-7.72 7.72c-.78.78-.78 2.05 0 2.83L4 21.41c.39.39.9.59 1.41.59.51 0 1.02-.2 1.41-.59l7.78-7.78 2.81-2.81c.8-.78.8-2.07 0-2.86zM5.41 20L4 18.59l7.72-7.72 1.47 1.35L5.41 20z\"/>\n",
              "  </svg>\n",
              "      </button>\n",
              "      \n",
              "  <style>\n",
              "    .colab-df-container {\n",
              "      display:flex;\n",
              "      flex-wrap:wrap;\n",
              "      gap: 12px;\n",
              "    }\n",
              "\n",
              "    .colab-df-convert {\n",
              "      background-color: #E8F0FE;\n",
              "      border: none;\n",
              "      border-radius: 50%;\n",
              "      cursor: pointer;\n",
              "      display: none;\n",
              "      fill: #1967D2;\n",
              "      height: 32px;\n",
              "      padding: 0 0 0 0;\n",
              "      width: 32px;\n",
              "    }\n",
              "\n",
              "    .colab-df-convert:hover {\n",
              "      background-color: #E2EBFA;\n",
              "      box-shadow: 0px 1px 2px rgba(60, 64, 67, 0.3), 0px 1px 3px 1px rgba(60, 64, 67, 0.15);\n",
              "      fill: #174EA6;\n",
              "    }\n",
              "\n",
              "    [theme=dark] .colab-df-convert {\n",
              "      background-color: #3B4455;\n",
              "      fill: #D2E3FC;\n",
              "    }\n",
              "\n",
              "    [theme=dark] .colab-df-convert:hover {\n",
              "      background-color: #434B5C;\n",
              "      box-shadow: 0px 1px 3px 1px rgba(0, 0, 0, 0.15);\n",
              "      filter: drop-shadow(0px 1px 2px rgba(0, 0, 0, 0.3));\n",
              "      fill: #FFFFFF;\n",
              "    }\n",
              "  </style>\n",
              "\n",
              "      <script>\n",
              "        const buttonEl =\n",
              "          document.querySelector('#df-4fbac2eb-f79a-4ac4-b2c0-616d9cc357e6 button.colab-df-convert');\n",
              "        buttonEl.style.display =\n",
              "          google.colab.kernel.accessAllowed ? 'block' : 'none';\n",
              "\n",
              "        async function convertToInteractive(key) {\n",
              "          const element = document.querySelector('#df-4fbac2eb-f79a-4ac4-b2c0-616d9cc357e6');\n",
              "          const dataTable =\n",
              "            await google.colab.kernel.invokeFunction('convertToInteractive',\n",
              "                                                     [key], {});\n",
              "          if (!dataTable) return;\n",
              "\n",
              "          const docLinkHtml = 'Like what you see? Visit the ' +\n",
              "            '<a target=\"_blank\" href=https://colab.research.google.com/notebooks/data_table.ipynb>data table notebook</a>'\n",
              "            + ' to learn more about interactive tables.';\n",
              "          element.innerHTML = '';\n",
              "          dataTable['output_type'] = 'display_data';\n",
              "          await google.colab.output.renderOutput(dataTable, element);\n",
              "          const docLink = document.createElement('div');\n",
              "          docLink.innerHTML = docLinkHtml;\n",
              "          element.appendChild(docLink);\n",
              "        }\n",
              "      </script>\n",
              "    </div>\n",
              "  </div>\n",
              "  "
            ]
          },
          "metadata": {},
          "execution_count": 18
        }
      ]
    },
    {
      "cell_type": "code",
      "source": [
        "df_scores_md.sort_values(by='scores_md', ascending=False).head()"
      ],
      "metadata": {
        "colab": {
          "base_uri": "https://localhost:8080/",
          "height": 206
        },
        "id": "xYrEHg-YqK95",
        "outputId": "6507c859-dab4-4dd4-e9ee-74c63665273a"
      },
      "execution_count": 19,
      "outputs": [
        {
          "output_type": "execute_result",
          "data": {
            "text/plain": [
              "    max_depth  n_estimators  scores_md\n",
              "0          10            10   0.000005\n",
              "40         20            10   0.000005\n",
              "60         25            10   0.000005\n",
              "20         15            10   0.000005\n",
              "1          10            20   0.000004"
            ],
            "text/html": [
              "\n",
              "  <div id=\"df-acb8811e-fa98-44c3-943e-518c3f6968d3\">\n",
              "    <div class=\"colab-df-container\">\n",
              "      <div>\n",
              "<style scoped>\n",
              "    .dataframe tbody tr th:only-of-type {\n",
              "        vertical-align: middle;\n",
              "    }\n",
              "\n",
              "    .dataframe tbody tr th {\n",
              "        vertical-align: top;\n",
              "    }\n",
              "\n",
              "    .dataframe thead th {\n",
              "        text-align: right;\n",
              "    }\n",
              "</style>\n",
              "<table border=\"1\" class=\"dataframe\">\n",
              "  <thead>\n",
              "    <tr style=\"text-align: right;\">\n",
              "      <th></th>\n",
              "      <th>max_depth</th>\n",
              "      <th>n_estimators</th>\n",
              "      <th>scores_md</th>\n",
              "    </tr>\n",
              "  </thead>\n",
              "  <tbody>\n",
              "    <tr>\n",
              "      <th>0</th>\n",
              "      <td>10</td>\n",
              "      <td>10</td>\n",
              "      <td>0.000005</td>\n",
              "    </tr>\n",
              "    <tr>\n",
              "      <th>40</th>\n",
              "      <td>20</td>\n",
              "      <td>10</td>\n",
              "      <td>0.000005</td>\n",
              "    </tr>\n",
              "    <tr>\n",
              "      <th>60</th>\n",
              "      <td>25</td>\n",
              "      <td>10</td>\n",
              "      <td>0.000005</td>\n",
              "    </tr>\n",
              "    <tr>\n",
              "      <th>20</th>\n",
              "      <td>15</td>\n",
              "      <td>10</td>\n",
              "      <td>0.000005</td>\n",
              "    </tr>\n",
              "    <tr>\n",
              "      <th>1</th>\n",
              "      <td>10</td>\n",
              "      <td>20</td>\n",
              "      <td>0.000004</td>\n",
              "    </tr>\n",
              "  </tbody>\n",
              "</table>\n",
              "</div>\n",
              "      <button class=\"colab-df-convert\" onclick=\"convertToInteractive('df-acb8811e-fa98-44c3-943e-518c3f6968d3')\"\n",
              "              title=\"Convert this dataframe to an interactive table.\"\n",
              "              style=\"display:none;\">\n",
              "        \n",
              "  <svg xmlns=\"http://www.w3.org/2000/svg\" height=\"24px\"viewBox=\"0 0 24 24\"\n",
              "       width=\"24px\">\n",
              "    <path d=\"M0 0h24v24H0V0z\" fill=\"none\"/>\n",
              "    <path d=\"M18.56 5.44l.94 2.06.94-2.06 2.06-.94-2.06-.94-.94-2.06-.94 2.06-2.06.94zm-11 1L8.5 8.5l.94-2.06 2.06-.94-2.06-.94L8.5 2.5l-.94 2.06-2.06.94zm10 10l.94 2.06.94-2.06 2.06-.94-2.06-.94-.94-2.06-.94 2.06-2.06.94z\"/><path d=\"M17.41 7.96l-1.37-1.37c-.4-.4-.92-.59-1.43-.59-.52 0-1.04.2-1.43.59L10.3 9.45l-7.72 7.72c-.78.78-.78 2.05 0 2.83L4 21.41c.39.39.9.59 1.41.59.51 0 1.02-.2 1.41-.59l7.78-7.78 2.81-2.81c.8-.78.8-2.07 0-2.86zM5.41 20L4 18.59l7.72-7.72 1.47 1.35L5.41 20z\"/>\n",
              "  </svg>\n",
              "      </button>\n",
              "      \n",
              "  <style>\n",
              "    .colab-df-container {\n",
              "      display:flex;\n",
              "      flex-wrap:wrap;\n",
              "      gap: 12px;\n",
              "    }\n",
              "\n",
              "    .colab-df-convert {\n",
              "      background-color: #E8F0FE;\n",
              "      border: none;\n",
              "      border-radius: 50%;\n",
              "      cursor: pointer;\n",
              "      display: none;\n",
              "      fill: #1967D2;\n",
              "      height: 32px;\n",
              "      padding: 0 0 0 0;\n",
              "      width: 32px;\n",
              "    }\n",
              "\n",
              "    .colab-df-convert:hover {\n",
              "      background-color: #E2EBFA;\n",
              "      box-shadow: 0px 1px 2px rgba(60, 64, 67, 0.3), 0px 1px 3px 1px rgba(60, 64, 67, 0.15);\n",
              "      fill: #174EA6;\n",
              "    }\n",
              "\n",
              "    [theme=dark] .colab-df-convert {\n",
              "      background-color: #3B4455;\n",
              "      fill: #D2E3FC;\n",
              "    }\n",
              "\n",
              "    [theme=dark] .colab-df-convert:hover {\n",
              "      background-color: #434B5C;\n",
              "      box-shadow: 0px 1px 3px 1px rgba(0, 0, 0, 0.15);\n",
              "      filter: drop-shadow(0px 1px 2px rgba(0, 0, 0, 0.3));\n",
              "      fill: #FFFFFF;\n",
              "    }\n",
              "  </style>\n",
              "\n",
              "      <script>\n",
              "        const buttonEl =\n",
              "          document.querySelector('#df-acb8811e-fa98-44c3-943e-518c3f6968d3 button.colab-df-convert');\n",
              "        buttonEl.style.display =\n",
              "          google.colab.kernel.accessAllowed ? 'block' : 'none';\n",
              "\n",
              "        async function convertToInteractive(key) {\n",
              "          const element = document.querySelector('#df-acb8811e-fa98-44c3-943e-518c3f6968d3');\n",
              "          const dataTable =\n",
              "            await google.colab.kernel.invokeFunction('convertToInteractive',\n",
              "                                                     [key], {});\n",
              "          if (!dataTable) return;\n",
              "\n",
              "          const docLinkHtml = 'Like what you see? Visit the ' +\n",
              "            '<a target=\"_blank\" href=https://colab.research.google.com/notebooks/data_table.ipynb>data table notebook</a>'\n",
              "            + ' to learn more about interactive tables.';\n",
              "          element.innerHTML = '';\n",
              "          dataTable['output_type'] = 'display_data';\n",
              "          await google.colab.output.renderOutput(dataTable, element);\n",
              "          const docLink = document.createElement('div');\n",
              "          docLink.innerHTML = docLinkHtml;\n",
              "          element.appendChild(docLink);\n",
              "        }\n",
              "      </script>\n",
              "    </div>\n",
              "  </div>\n",
              "  "
            ]
          },
          "metadata": {},
          "execution_count": 19
        }
      ]
    },
    {
      "cell_type": "markdown",
      "source": [
        "What's the best max_depth:"
      ],
      "metadata": {
        "id": "afLgyIPGpom2"
      }
    },
    {
      "cell_type": "markdown",
      "source": [
        "Answer: 10"
      ],
      "metadata": {
        "id": "7ZKsmZEiosFn"
      }
    },
    {
      "cell_type": "markdown",
      "source": [
        "### Question 5\n",
        "We can extract feature importance information from tree-based models.\n",
        "\n",
        "At each step of the decision tree learning algorith, it finds the best split. When doint it, we can calculate \"gain\" - the reduction in impurity before and after the split. This gain is quite useful in understanding what are the imporatant features for tree-based models.\n",
        "\n",
        "In Scikit-Learn, tree-based models contain this information in the feature_importances_ field.\n",
        "\n",
        "For this homework question, we'll find the most important feature:\n",
        "\n",
        "Train the model with these parametes:\n",
        "\n",
        "1. n_estimators=10,\n",
        "2. max_depth=20,\n",
        "3. random_state=1,\n",
        "4. n_jobs=-1 (optional)\n",
        "5. Get the feature importance information from this model"
      ],
      "metadata": {
        "id": "zj8xp2PAgIdU"
      }
    },
    {
      "cell_type": "code",
      "source": [
        "# TRAINING THE RANDOM FOREST MODEL:\n",
        "rf5 = RandomForestRegressor(n_estimators=10, max_depth=20, random_state=1, n_jobs=-1)\n",
        "\n",
        "rf5.fit(X_train, y_train)"
      ],
      "metadata": {
        "colab": {
          "base_uri": "https://localhost:8080/"
        },
        "id": "TxnT9al_5XNT",
        "outputId": "e1cadd6b-9e69-4c18-800e-d72d25f3fc5a"
      },
      "execution_count": 35,
      "outputs": [
        {
          "output_type": "execute_result",
          "data": {
            "text/plain": [
              "RandomForestRegressor(max_depth=20, n_estimators=10, n_jobs=-1, random_state=1)"
            ]
          },
          "metadata": {},
          "execution_count": 35
        }
      ]
    },
    {
      "cell_type": "code",
      "source": [
        "# Get feature names from training data\n",
        "features = df_train.columns.to_list() + ['<1H OCEAN', 'INLAND', 'NEAR OCEAN', 'NEAR BAY', 'ISLAND']\n",
        "\n",
        "# Extract importances from model\n",
        "importances = rf5.feature_importances_\n",
        "\n",
        "feat_imp = pd.Series(importances, index=features).sort_values(ascending=True)\n",
        "\n",
        "# Plot the feature importances\n",
        "feat_imp.plot(kind=\"barh\", \n",
        "              xlabel=\"Importance\", \n",
        "              ylabel=\"Feature\", \n",
        "              title=\"Feature Importance\");"
      ],
      "metadata": {
        "colab": {
          "base_uri": "https://localhost:8080/",
          "height": 281
        },
        "id": "m0KjeM9J8IOk",
        "outputId": "929f8796-73f2-4a52-b2d5-7b66ae1d58aa"
      },
      "execution_count": 52,
      "outputs": [
        {
          "output_type": "display_data",
          "data": {
            "text/plain": [
              "<Figure size 432x288 with 1 Axes>"
            ],
            "image/png": "[encoded data removed]"
          },
          "metadata": {
            "needs_background": "light"
          }
        }
      ]
    },
    {
      "cell_type": "markdown",
      "source": [
        "What's the most important feature?"
      ],
      "metadata": {
        "id": "YR0Aocrq5XdF"
      }
    },
    {
      "cell_type": "markdown",
      "source": [
        "Answer: total_bedrooms"
      ],
      "metadata": {
        "id": "oJqyTGRM6APf"
      }
    },
    {
      "cell_type": "markdown",
      "source": [
        "### Question 6\n",
        "Now let's train an XGBoost model! For this question, we'll tune the eta parameter:\n",
        "\n",
        "Install XGBoost.\n",
        "Create DMatrix for train and validation\n",
        "Create a watchlist\n",
        "Train a model with these parameters for 100 rounds:"
      ],
      "metadata": {
        "id": "UTvxXs04g4ul"
      }
    },
    {
      "cell_type": "code",
      "source": [
        "# CREATING THE DMARTIX:\n",
        "features = dv.feature_names_\n",
        "\n",
        "regex = re.compile(r\"<\", re.IGNORECASE)\n",
        "features = [regex.sub(\"_\", col) if any(x in str(col) for x in set(('[', ']', '<'))) else col for col in features]\n",
        "\n",
        "dtrain = xgb.DMatrix(X_train, label=y_train, feature_names=features)\n",
        "dval = xgb.DMatrix(X_val, label=y_val, feature_names=features)"
      ],
      "metadata": {
        "id": "IrbNo8JT6Ol7"
      },
      "execution_count": 59,
      "outputs": []
    },
    {
      "cell_type": "code",
      "source": [
        "def mse_calc(eta_value):\n",
        "\n",
        "  xgb_params = {  \n",
        "              'eta': eta_value,  \n",
        "              'max_depth': 6,  \n",
        "              'min_child_weight': 1,  \n",
        "\n",
        "              'objective': 'reg:squarederror',\n",
        "              'nthread': 8,\n",
        "\n",
        "              'seed': 1,\n",
        "              'verbosity': 1,\n",
        "              }\n",
        "\n",
        "  model = xgb.train(xgb_params, dtrain, num_boost_round=200)\n",
        "  pred_val = model.predict(dval)\n",
        "  mse = mean_squared_error(y_val, pred_val)\n",
        "\n",
        "  return mse"
      ],
      "metadata": {
        "id": "A5xLse806GyA"
      },
      "execution_count": 60,
      "outputs": []
    },
    {
      "cell_type": "code",
      "source": [
        "mse_calc(0.3)"
      ],
      "metadata": {
        "colab": {
          "base_uri": "https://localhost:8080/"
        },
        "id": "OvOZKTCCO299",
        "outputId": "16a33a77-aa7f-4a0b-c06e-ff2cb4dd9903"
      },
      "execution_count": 63,
      "outputs": [
        {
          "output_type": "execute_result",
          "data": {
            "text/plain": [
              "3.3549066652266666e-05"
            ]
          },
          "metadata": {},
          "execution_count": 63
        }
      ]
    },
    {
      "cell_type": "markdown",
      "source": [
        "Now, change eta first to 0.1 and then to 0.01.\n",
        "\n",
        "Which eta leads to the best RMSE score on the validation dataset?"
      ],
      "metadata": {
        "id": "U49ZH5wV63eX"
      }
    },
    {
      "cell_type": "code",
      "source": [
        "mse_calc(0.1)"
      ],
      "metadata": {
        "colab": {
          "base_uri": "https://localhost:8080/"
        },
        "id": "1r7Fxqd5PKRd",
        "outputId": "04b23e42-84d9-49db-8453-b454e678e961"
      },
      "execution_count": 64,
      "outputs": [
        {
          "output_type": "execute_result",
          "data": {
            "text/plain": [
              "6.0063865500611265e-06"
            ]
          },
          "metadata": {},
          "execution_count": 64
        }
      ]
    },
    {
      "cell_type": "code",
      "source": [
        "mse_calc(0.01)"
      ],
      "metadata": {
        "id": "YUctyYsx1xaD",
        "colab": {
          "base_uri": "https://localhost:8080/"
        },
        "outputId": "2b2ed2ac-a244-4965-e44e-2e0472f6910d"
      },
      "execution_count": 65,
      "outputs": [
        {
          "output_type": "execute_result",
          "data": {
            "text/plain": [
              "2.4248090892474465"
            ]
          },
          "metadata": {},
          "execution_count": 65
        }
      ]
    },
    {
      "cell_type": "markdown",
      "source": [
        "Answer: 0.1"
      ],
      "metadata": {
        "id": "QDTzNIRTJDCD"
      }
    },
    {
      "cell_type": "code",
      "source": [],
      "metadata": {
        "id": "twB-OwxrPto_"
      },
      "execution_count": null,
      "outputs": []
    }
  ]
}