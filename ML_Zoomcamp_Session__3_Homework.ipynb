{
  "nbformat": 4,
  "nbformat_minor": 0,
  "metadata": {
    "colab": {
      "provenance": [],
      "collapsed_sections": [],
      "mount_file_id": "1ojEJ_Who8eKWF0OinevlRcHQUCvCeC44",
      "authorship_tag": "ABX9TyPje2cLfoJFqzbGZ3QUG26N",
      "include_colab_link": true
    },
    "kernelspec": {
      "name": "python3",
      "display_name": "Python 3"
    },
    "language_info": {
      "name": "python"
    }
  },
  "cells": [
    {
      "cell_type": "markdown",
      "metadata": {
        "id": "view-in-github",
        "colab_type": "text"
      },
      "source": [
        "<a href=\"https://colab.research.google.com/github/subair99/ML_Zoomcamp_2022/blob/main/ML_Zoomcamp_Session__3_Homework.ipynb\" target=\"_parent\"><img src=\"https://colab.research.google.com/assets/colab-badge.svg\" alt=\"Open In Colab\"/></a>"
      ]
    },
    {
      "cell_type": "markdown",
      "source": [
        "## Homework\n",
        "\n",
        "### Dataset\n",
        "In this homework, we will use the California Housing Prices data from Kaggle.\n",
        "\n",
        "Here's a wget-able link:\n",
        "\n",
        "wget https://raw.githubusercontent.com/alexeygrigorev/datasets/master/housing.csv\n",
        "\n",
        "We'll keep working with the 'median_house_value' variable, and we'll transform it to a classification task.\n",
        "\n",
        "The goal of this homework is to create a regression model for predicting housing prices (column 'median_house_value').\n",
        "\n",
        "### Features\n",
        "For the rest of the homework, you'll need to use only these columns:\n",
        "\n",
        "  1. 'latitude',\n",
        "  2. 'longitude',\n",
        "  3. 'housing_median_age',\n",
        "  4. 'total_rooms',\n",
        "  5. 'total_bedrooms',\n",
        "  6. 'population',\n",
        "  7. 'households',\n",
        "  8. 'median_income',\n",
        "  9. 'median_house_value'\n",
        "  10. 'ocean_proximity'"
      ],
      "metadata": {
        "id": "kFLrgz4dKgEu"
      }
    },
    {
      "cell_type": "code",
      "source": [
        "from google.colab import drive\n",
        "drive.mount('/content/drive')\n",
        "%cd /content/drive/MyDrive/Colab_Notebooks/ML_Zoomcamp_2022"
      ],
      "metadata": {
        "colab": {
          "base_uri": "https://localhost:8080/"
        },
        "id": "FIVl-BohMczg",
        "outputId": "a35ddd17-50b5-4d61-d7a4-1998ddd2a02e"
      },
      "execution_count": 72,
      "outputs": [
        {
          "output_type": "stream",
          "name": "stdout",
          "text": [
            "Drive already mounted at /content/drive; to attempt to forcibly remount, call drive.mount(\"/content/drive\", force_remount=True).\n",
            "/content/drive/MyDrive/Colab_Notebooks/ML_Zoomcamp_2022\n"
          ]
        }
      ]
    },
    {
      "cell_type": "code",
      "execution_count": 73,
      "metadata": {
        "id": "PLwzl-PiJwBW"
      },
      "outputs": [],
      "source": [
        "# Import required models\n",
        "import pandas as pd\n",
        "import numpy as np\n",
        "from matplotlib import pyplot as plt\n",
        "%matplotlib inline\n",
        "import seaborn as sns\n",
        "from sklearn.model_selection import train_test_split\n",
        "from sklearn.metrics import mutual_info_score\n",
        "from sklearn.feature_extraction import DictVectorizer\n",
        "from sklearn.linear_model import LogisticRegression\n",
        "from sklearn.metrics import accuracy_score\n",
        "from sklearn.linear_model import Ridge\n",
        "from sklearn.metrics import mean_squared_error"
      ]
    },
    {
      "cell_type": "markdown",
      "source": [
        "### Data preparation\n",
        "1. Select only the features from above and fill in the missing values with 0.\n",
        "2. Create a new column rooms_per_household by dividing the column total_rooms by the column households from dataframe.\n",
        "3. Create a new column bedrooms_per_room by dividing the column total_bedrooms by the column total_rooms from dataframe.\n",
        "4. Create a new column population_per_household by dividing the column population by the column households from dataframe."
      ],
      "metadata": {
        "id": "AOgXZ_KL0oRN"
      }
    },
    {
      "cell_type": "code",
      "source": [
        "# Read dataset to dataframe\n",
        "df = pd.read_csv('ML_Zoomcamp_Session_#3_data.csv')"
      ],
      "metadata": {
        "id": "ZbthUoMgNP2N"
      },
      "execution_count": 6,
      "outputs": []
    },
    {
      "cell_type": "code",
      "source": [
        "# Check dataset\n",
        "df.head()"
      ],
      "metadata": {
        "colab": {
          "base_uri": "https://localhost:8080/",
          "height": 206
        },
        "id": "yNyHT4WeFHMz",
        "outputId": "017e6dfe-34df-4494-953c-2e4ce99747b2"
      },
      "execution_count": 7,
      "outputs": [
        {
          "output_type": "execute_result",
          "data": {
            "text/plain": [
              "   longitude  latitude  housing_median_age  total_rooms  total_bedrooms  \\\n",
              "0    -122.23     37.88                41.0        880.0           129.0   \n",
              "1    -122.22     37.86                21.0       7099.0          1106.0   \n",
              "2    -122.24     37.85                52.0       1467.0           190.0   \n",
              "3    -122.25     37.85                52.0       1274.0           235.0   \n",
              "4    -122.25     37.85                52.0       1627.0           280.0   \n",
              "\n",
              "   population  households  median_income  median_house_value ocean_proximity  \n",
              "0       322.0       126.0         8.3252            452600.0        NEAR BAY  \n",
              "1      2401.0      1138.0         8.3014            358500.0        NEAR BAY  \n",
              "2       496.0       177.0         7.2574            352100.0        NEAR BAY  \n",
              "3       558.0       219.0         5.6431            341300.0        NEAR BAY  \n",
              "4       565.0       259.0         3.8462            342200.0        NEAR BAY  "
            ],
            "text/html": [
              "\n",
              "  <div id=\"df-f1407aad-c40b-487d-bd1b-f701921f3dae\">\n",
              "    <div class=\"colab-df-container\">\n",
              "      <div>\n",
              "<style scoped>\n",
              "    .dataframe tbody tr th:only-of-type {\n",
              "        vertical-align: middle;\n",
              "    }\n",
              "\n",
              "    .dataframe tbody tr th {\n",
              "        vertical-align: top;\n",
              "    }\n",
              "\n",
              "    .dataframe thead th {\n",
              "        text-align: right;\n",
              "    }\n",
              "</style>\n",
              "<table border=\"1\" class=\"dataframe\">\n",
              "  <thead>\n",
              "    <tr style=\"text-align: right;\">\n",
              "      <th></th>\n",
              "      <th>longitude</th>\n",
              "      <th>latitude</th>\n",
              "      <th>housing_median_age</th>\n",
              "      <th>total_rooms</th>\n",
              "      <th>total_bedrooms</th>\n",
              "      <th>population</th>\n",
              "      <th>households</th>\n",
              "      <th>median_income</th>\n",
              "      <th>median_house_value</th>\n",
              "      <th>ocean_proximity</th>\n",
              "    </tr>\n",
              "  </thead>\n",
              "  <tbody>\n",
              "    <tr>\n",
              "      <th>0</th>\n",
              "      <td>-122.23</td>\n",
              "      <td>37.88</td>\n",
              "      <td>41.0</td>\n",
              "      <td>880.0</td>\n",
              "      <td>129.0</td>\n",
              "      <td>322.0</td>\n",
              "      <td>126.0</td>\n",
              "      <td>8.3252</td>\n",
              "      <td>452600.0</td>\n",
              "      <td>NEAR BAY</td>\n",
              "    </tr>\n",
              "    <tr>\n",
              "      <th>1</th>\n",
              "      <td>-122.22</td>\n",
              "      <td>37.86</td>\n",
              "      <td>21.0</td>\n",
              "      <td>7099.0</td>\n",
              "      <td>1106.0</td>\n",
              "      <td>2401.0</td>\n",
              "      <td>1138.0</td>\n",
              "      <td>8.3014</td>\n",
              "      <td>358500.0</td>\n",
              "      <td>NEAR BAY</td>\n",
              "    </tr>\n",
              "    <tr>\n",
              "      <th>2</th>\n",
              "      <td>-122.24</td>\n",
              "      <td>37.85</td>\n",
              "      <td>52.0</td>\n",
              "      <td>1467.0</td>\n",
              "      <td>190.0</td>\n",
              "      <td>496.0</td>\n",
              "      <td>177.0</td>\n",
              "      <td>7.2574</td>\n",
              "      <td>352100.0</td>\n",
              "      <td>NEAR BAY</td>\n",
              "    </tr>\n",
              "    <tr>\n",
              "      <th>3</th>\n",
              "      <td>-122.25</td>\n",
              "      <td>37.85</td>\n",
              "      <td>52.0</td>\n",
              "      <td>1274.0</td>\n",
              "      <td>235.0</td>\n",
              "      <td>558.0</td>\n",
              "      <td>219.0</td>\n",
              "      <td>5.6431</td>\n",
              "      <td>341300.0</td>\n",
              "      <td>NEAR BAY</td>\n",
              "    </tr>\n",
              "    <tr>\n",
              "      <th>4</th>\n",
              "      <td>-122.25</td>\n",
              "      <td>37.85</td>\n",
              "      <td>52.0</td>\n",
              "      <td>1627.0</td>\n",
              "      <td>280.0</td>\n",
              "      <td>565.0</td>\n",
              "      <td>259.0</td>\n",
              "      <td>3.8462</td>\n",
              "      <td>342200.0</td>\n",
              "      <td>NEAR BAY</td>\n",
              "    </tr>\n",
              "  </tbody>\n",
              "</table>\n",
              "</div>\n",
              "      <button class=\"colab-df-convert\" onclick=\"convertToInteractive('df-f1407aad-c40b-487d-bd1b-f701921f3dae')\"\n",
              "              title=\"Convert this dataframe to an interactive table.\"\n",
              "              style=\"display:none;\">\n",
              "        \n",
              "  <svg xmlns=\"http://www.w3.org/2000/svg\" height=\"24px\"viewBox=\"0 0 24 24\"\n",
              "       width=\"24px\">\n",
              "    <path d=\"M0 0h24v24H0V0z\" fill=\"none\"/>\n",
              "    <path d=\"M18.56 5.44l.94 2.06.94-2.06 2.06-.94-2.06-.94-.94-2.06-.94 2.06-2.06.94zm-11 1L8.5 8.5l.94-2.06 2.06-.94-2.06-.94L8.5 2.5l-.94 2.06-2.06.94zm10 10l.94 2.06.94-2.06 2.06-.94-2.06-.94-.94-2.06-.94 2.06-2.06.94z\"/><path d=\"M17.41 7.96l-1.37-1.37c-.4-.4-.92-.59-1.43-.59-.52 0-1.04.2-1.43.59L10.3 9.45l-7.72 7.72c-.78.78-.78 2.05 0 2.83L4 21.41c.39.39.9.59 1.41.59.51 0 1.02-.2 1.41-.59l7.78-7.78 2.81-2.81c.8-.78.8-2.07 0-2.86zM5.41 20L4 18.59l7.72-7.72 1.47 1.35L5.41 20z\"/>\n",
              "  </svg>\n",
              "      </button>\n",
              "      \n",
              "  <style>\n",
              "    .colab-df-container {\n",
              "      display:flex;\n",
              "      flex-wrap:wrap;\n",
              "      gap: 12px;\n",
              "    }\n",
              "\n",
              "    .colab-df-convert {\n",
              "      background-color: #E8F0FE;\n",
              "      border: none;\n",
              "      border-radius: 50%;\n",
              "      cursor: pointer;\n",
              "      display: none;\n",
              "      fill: #1967D2;\n",
              "      height: 32px;\n",
              "      padding: 0 0 0 0;\n",
              "      width: 32px;\n",
              "    }\n",
              "\n",
              "    .colab-df-convert:hover {\n",
              "      background-color: #E2EBFA;\n",
              "      box-shadow: 0px 1px 2px rgba(60, 64, 67, 0.3), 0px 1px 3px 1px rgba(60, 64, 67, 0.15);\n",
              "      fill: #174EA6;\n",
              "    }\n",
              "\n",
              "    [theme=dark] .colab-df-convert {\n",
              "      background-color: #3B4455;\n",
              "      fill: #D2E3FC;\n",
              "    }\n",
              "\n",
              "    [theme=dark] .colab-df-convert:hover {\n",
              "      background-color: #434B5C;\n",
              "      box-shadow: 0px 1px 3px 1px rgba(0, 0, 0, 0.15);\n",
              "      filter: drop-shadow(0px 1px 2px rgba(0, 0, 0, 0.3));\n",
              "      fill: #FFFFFF;\n",
              "    }\n",
              "  </style>\n",
              "\n",
              "      <script>\n",
              "        const buttonEl =\n",
              "          document.querySelector('#df-f1407aad-c40b-487d-bd1b-f701921f3dae button.colab-df-convert');\n",
              "        buttonEl.style.display =\n",
              "          google.colab.kernel.accessAllowed ? 'block' : 'none';\n",
              "\n",
              "        async function convertToInteractive(key) {\n",
              "          const element = document.querySelector('#df-f1407aad-c40b-487d-bd1b-f701921f3dae');\n",
              "          const dataTable =\n",
              "            await google.colab.kernel.invokeFunction('convertToInteractive',\n",
              "                                                     [key], {});\n",
              "          if (!dataTable) return;\n",
              "\n",
              "          const docLinkHtml = 'Like what you see? Visit the ' +\n",
              "            '<a target=\"_blank\" href=https://colab.research.google.com/notebooks/data_table.ipynb>data table notebook</a>'\n",
              "            + ' to learn more about interactive tables.';\n",
              "          element.innerHTML = '';\n",
              "          dataTable['output_type'] = 'display_data';\n",
              "          await google.colab.output.renderOutput(dataTable, element);\n",
              "          const docLink = document.createElement('div');\n",
              "          docLink.innerHTML = docLinkHtml;\n",
              "          element.appendChild(docLink);\n",
              "        }\n",
              "      </script>\n",
              "    </div>\n",
              "  </div>\n",
              "  "
            ]
          },
          "metadata": {},
          "execution_count": 7
        }
      ]
    },
    {
      "cell_type": "code",
      "source": [
        "# Check missing values\n",
        "df.isnull().sum()"
      ],
      "metadata": {
        "colab": {
          "base_uri": "https://localhost:8080/"
        },
        "id": "Fg-6BhtDF1vz",
        "outputId": "95941c61-2ada-457b-e3f1-ded13d88ef5f"
      },
      "execution_count": 8,
      "outputs": [
        {
          "output_type": "execute_result",
          "data": {
            "text/plain": [
              "longitude               0\n",
              "latitude                0\n",
              "housing_median_age      0\n",
              "total_rooms             0\n",
              "total_bedrooms        207\n",
              "population              0\n",
              "households              0\n",
              "median_income           0\n",
              "median_house_value      0\n",
              "ocean_proximity         0\n",
              "dtype: int64"
            ]
          },
          "metadata": {},
          "execution_count": 8
        }
      ]
    },
    {
      "cell_type": "code",
      "source": [
        "\n",
        "# Fill missing values with 0\n",
        "df.fillna(0, inplace=True)"
      ],
      "metadata": {
        "id": "n6AJ10VRH1oc"
      },
      "execution_count": 9,
      "outputs": []
    },
    {
      "cell_type": "code",
      "source": [
        "# Check missing values again\n",
        "df.isnull().sum()"
      ],
      "metadata": {
        "colab": {
          "base_uri": "https://localhost:8080/"
        },
        "id": "25AGxrBaIG3h",
        "outputId": "ebdec90f-e483-400f-8533-ea4fd958dce0"
      },
      "execution_count": 10,
      "outputs": [
        {
          "output_type": "execute_result",
          "data": {
            "text/plain": [
              "longitude             0\n",
              "latitude              0\n",
              "housing_median_age    0\n",
              "total_rooms           0\n",
              "total_bedrooms        0\n",
              "population            0\n",
              "households            0\n",
              "median_income         0\n",
              "median_house_value    0\n",
              "ocean_proximity       0\n",
              "dtype: int64"
            ]
          },
          "metadata": {},
          "execution_count": 10
        }
      ]
    },
    {
      "cell_type": "code",
      "source": [
        "# Create new columns\n",
        "df['rooms_per_household'] = df.total_rooms / df.households\n",
        "df['bedrooms_per_room'] = df.total_bedrooms / df.total_rooms\n",
        "df['population_per_household'] = df.population / df.households"
      ],
      "metadata": {
        "id": "IAj7vMeyIftw"
      },
      "execution_count": 11,
      "outputs": []
    },
    {
      "cell_type": "markdown",
      "source": [
        "### Question 1\n",
        "What is the most frequent observation (mode) for the column ocean_proximity?\n",
        "\n",
        "Options:\n",
        "\n",
        "1. NEAR BAY\n",
        "2. <1H OCEAN\n",
        "3. INLAND\n",
        "4. NEAR OCEAN"
      ],
      "metadata": {
        "id": "TPaUgnEvLVXl"
      }
    },
    {
      "cell_type": "code",
      "source": [
        "df.ocean_proximity.value_counts()"
      ],
      "metadata": {
        "colab": {
          "base_uri": "https://localhost:8080/"
        },
        "id": "gbU8k3_i1L7L",
        "outputId": "645f4394-28d9-43ec-991b-9489559c055a"
      },
      "execution_count": 12,
      "outputs": [
        {
          "output_type": "execute_result",
          "data": {
            "text/plain": [
              "<1H OCEAN     9136\n",
              "INLAND        6551\n",
              "NEAR OCEAN    2658\n",
              "NEAR BAY      2290\n",
              "ISLAND           5\n",
              "Name: ocean_proximity, dtype: int64"
            ]
          },
          "metadata": {},
          "execution_count": 12
        }
      ]
    },
    {
      "cell_type": "markdown",
      "source": [
        "Answer: <1H OCEAN"
      ],
      "metadata": {
        "id": "jqwhGyAmN31L"
      }
    },
    {
      "cell_type": "markdown",
      "source": [
        "### Split the data\n",
        "1. Split your data in train/val/test sets, with 60%/20%/20% distribution.\n",
        "2. Use Scikit-Learn for that (the train_test_split function) and set the seed to 42.\n",
        "3. Make sure that the target value (median_house_value) is not in your dataframe."
      ],
      "metadata": {
        "id": "M8TfJPxy1XAb"
      }
    },
    {
      "cell_type": "code",
      "source": [
        "# Split to full_train and test\n",
        "df_full_train, df_test = train_test_split(df, test_size=0.2, random_state=42)"
      ],
      "metadata": {
        "id": "cs3b0sCfRxw8"
      },
      "execution_count": 13,
      "outputs": []
    },
    {
      "cell_type": "code",
      "source": [
        "\n",
        "# Split to train and val\n",
        "df_train, df_val = train_test_split(df_full_train, test_size=0.25, random_state=42)"
      ],
      "metadata": {
        "id": "OPh-5SZ0Uf-W"
      },
      "execution_count": 14,
      "outputs": []
    },
    {
      "cell_type": "code",
      "source": [
        "# Check length of splits\n",
        "len(df_train), len(df_val), len(df_test)"
      ],
      "metadata": {
        "colab": {
          "base_uri": "https://localhost:8080/"
        },
        "id": "uxOq5nWuYzci",
        "outputId": "565deb21-8ab0-42a1-fb7f-4e68f9204b39"
      },
      "execution_count": 15,
      "outputs": [
        {
          "output_type": "execute_result",
          "data": {
            "text/plain": [
              "(12384, 4128, 4128)"
            ]
          },
          "metadata": {},
          "execution_count": 15
        }
      ]
    },
    {
      "cell_type": "code",
      "source": [
        "# Reset index\n",
        "df_train.reset_index(drop=True)\n",
        "df_val.reset_index(drop=True)\n",
        "df_test.reset_index(drop=True)"
      ],
      "metadata": {
        "colab": {
          "base_uri": "https://localhost:8080/",
          "height": 488
        },
        "id": "NSMYH2EqXGvk",
        "outputId": "54798f15-6a14-4316-a25b-d500da93c1a6"
      },
      "execution_count": 16,
      "outputs": [
        {
          "output_type": "execute_result",
          "data": {
            "text/plain": [
              "      longitude  latitude  housing_median_age  total_rooms  total_bedrooms  \\\n",
              "0       -119.01     36.06                25.0       1505.0             0.0   \n",
              "1       -119.46     35.14                30.0       2943.0             0.0   \n",
              "2       -122.44     37.80                52.0       3830.0             0.0   \n",
              "3       -118.72     34.28                17.0       3051.0             0.0   \n",
              "4       -121.93     36.62                34.0       2351.0             0.0   \n",
              "...         ...       ...                 ...          ...             ...   \n",
              "4123    -117.22     33.36                16.0       3165.0           482.0   \n",
              "4124    -120.83     35.36                28.0       4323.0           886.0   \n",
              "4125    -122.05     37.31                25.0       4111.0           538.0   \n",
              "4126    -119.76     36.77                36.0       2507.0           466.0   \n",
              "4127    -118.37     34.22                17.0       1787.0           463.0   \n",
              "\n",
              "      population  households  median_income  median_house_value  \\\n",
              "0         1392.0       359.0         1.6812             47700.0   \n",
              "1         1565.0       584.0         2.5313             45800.0   \n",
              "2         1310.0       963.0         3.4801            500001.0   \n",
              "3         1705.0       495.0         5.7376            218600.0   \n",
              "4         1063.0       428.0         3.7250            278000.0   \n",
              "...          ...         ...            ...                 ...   \n",
              "4123      1351.0       452.0         4.6050            263300.0   \n",
              "4124      1650.0       705.0         2.7266            266800.0   \n",
              "4125      1585.0       568.0         9.2298            500001.0   \n",
              "4126      1227.0       474.0         2.7850             72300.0   \n",
              "4127      1671.0       448.0         3.5521            151500.0   \n",
              "\n",
              "     ocean_proximity  rooms_per_household  bedrooms_per_room  \\\n",
              "0             INLAND             4.192201           0.000000   \n",
              "1             INLAND             5.039384           0.000000   \n",
              "2           NEAR BAY             3.977155           0.000000   \n",
              "3          <1H OCEAN             6.163636           0.000000   \n",
              "4         NEAR OCEAN             5.492991           0.000000   \n",
              "...              ...                  ...                ...   \n",
              "4123       <1H OCEAN             7.002212           0.152291   \n",
              "4124      NEAR OCEAN             6.131915           0.204950   \n",
              "4125       <1H OCEAN             7.237676           0.130868   \n",
              "4126          INLAND             5.289030           0.185880   \n",
              "4127       <1H OCEAN             3.988839           0.259093   \n",
              "\n",
              "      population_per_household  \n",
              "0                     3.877437  \n",
              "1                     2.679795  \n",
              "2                     1.360332  \n",
              "3                     3.444444  \n",
              "4                     2.483645  \n",
              "...                        ...  \n",
              "4123                  2.988938  \n",
              "4124                  2.340426  \n",
              "4125                  2.790493  \n",
              "4126                  2.588608  \n",
              "4127                  3.729911  \n",
              "\n",
              "[4128 rows x 13 columns]"
            ],
            "text/html": [
              "\n",
              "  <div id=\"df-31816bb9-8d7d-4c53-8a55-ce651f46a901\">\n",
              "    <div class=\"colab-df-container\">\n",
              "      <div>\n",
              "<style scoped>\n",
              "    .dataframe tbody tr th:only-of-type {\n",
              "        vertical-align: middle;\n",
              "    }\n",
              "\n",
              "    .dataframe tbody tr th {\n",
              "        vertical-align: top;\n",
              "    }\n",
              "\n",
              "    .dataframe thead th {\n",
              "        text-align: right;\n",
              "    }\n",
              "</style>\n",
              "<table border=\"1\" class=\"dataframe\">\n",
              "  <thead>\n",
              "    <tr style=\"text-align: right;\">\n",
              "      <th></th>\n",
              "      <th>longitude</th>\n",
              "      <th>latitude</th>\n",
              "      <th>housing_median_age</th>\n",
              "      <th>total_rooms</th>\n",
              "      <th>total_bedrooms</th>\n",
              "      <th>population</th>\n",
              "      <th>households</th>\n",
              "      <th>median_income</th>\n",
              "      <th>median_house_value</th>\n",
              "      <th>ocean_proximity</th>\n",
              "      <th>rooms_per_household</th>\n",
              "      <th>bedrooms_per_room</th>\n",
              "      <th>population_per_household</th>\n",
              "    </tr>\n",
              "  </thead>\n",
              "  <tbody>\n",
              "    <tr>\n",
              "      <th>0</th>\n",
              "      <td>-119.01</td>\n",
              "      <td>36.06</td>\n",
              "      <td>25.0</td>\n",
              "      <td>1505.0</td>\n",
              "      <td>0.0</td>\n",
              "      <td>1392.0</td>\n",
              "      <td>359.0</td>\n",
              "      <td>1.6812</td>\n",
              "      <td>47700.0</td>\n",
              "      <td>INLAND</td>\n",
              "      <td>4.192201</td>\n",
              "      <td>0.000000</td>\n",
              "      <td>3.877437</td>\n",
              "    </tr>\n",
              "    <tr>\n",
              "      <th>1</th>\n",
              "      <td>-119.46</td>\n",
              "      <td>35.14</td>\n",
              "      <td>30.0</td>\n",
              "      <td>2943.0</td>\n",
              "      <td>0.0</td>\n",
              "      <td>1565.0</td>\n",
              "      <td>584.0</td>\n",
              "      <td>2.5313</td>\n",
              "      <td>45800.0</td>\n",
              "      <td>INLAND</td>\n",
              "      <td>5.039384</td>\n",
              "      <td>0.000000</td>\n",
              "      <td>2.679795</td>\n",
              "    </tr>\n",
              "    <tr>\n",
              "      <th>2</th>\n",
              "      <td>-122.44</td>\n",
              "      <td>37.80</td>\n",
              "      <td>52.0</td>\n",
              "      <td>3830.0</td>\n",
              "      <td>0.0</td>\n",
              "      <td>1310.0</td>\n",
              "      <td>963.0</td>\n",
              "      <td>3.4801</td>\n",
              "      <td>500001.0</td>\n",
              "      <td>NEAR BAY</td>\n",
              "      <td>3.977155</td>\n",
              "      <td>0.000000</td>\n",
              "      <td>1.360332</td>\n",
              "    </tr>\n",
              "    <tr>\n",
              "      <th>3</th>\n",
              "      <td>-118.72</td>\n",
              "      <td>34.28</td>\n",
              "      <td>17.0</td>\n",
              "      <td>3051.0</td>\n",
              "      <td>0.0</td>\n",
              "      <td>1705.0</td>\n",
              "      <td>495.0</td>\n",
              "      <td>5.7376</td>\n",
              "      <td>218600.0</td>\n",
              "      <td>&lt;1H OCEAN</td>\n",
              "      <td>6.163636</td>\n",
              "      <td>0.000000</td>\n",
              "      <td>3.444444</td>\n",
              "    </tr>\n",
              "    <tr>\n",
              "      <th>4</th>\n",
              "      <td>-121.93</td>\n",
              "      <td>36.62</td>\n",
              "      <td>34.0</td>\n",
              "      <td>2351.0</td>\n",
              "      <td>0.0</td>\n",
              "      <td>1063.0</td>\n",
              "      <td>428.0</td>\n",
              "      <td>3.7250</td>\n",
              "      <td>278000.0</td>\n",
              "      <td>NEAR OCEAN</td>\n",
              "      <td>5.492991</td>\n",
              "      <td>0.000000</td>\n",
              "      <td>2.483645</td>\n",
              "    </tr>\n",
              "    <tr>\n",
              "      <th>...</th>\n",
              "      <td>...</td>\n",
              "      <td>...</td>\n",
              "      <td>...</td>\n",
              "      <td>...</td>\n",
              "      <td>...</td>\n",
              "      <td>...</td>\n",
              "      <td>...</td>\n",
              "      <td>...</td>\n",
              "      <td>...</td>\n",
              "      <td>...</td>\n",
              "      <td>...</td>\n",
              "      <td>...</td>\n",
              "      <td>...</td>\n",
              "    </tr>\n",
              "    <tr>\n",
              "      <th>4123</th>\n",
              "      <td>-117.22</td>\n",
              "      <td>33.36</td>\n",
              "      <td>16.0</td>\n",
              "      <td>3165.0</td>\n",
              "      <td>482.0</td>\n",
              "      <td>1351.0</td>\n",
              "      <td>452.0</td>\n",
              "      <td>4.6050</td>\n",
              "      <td>263300.0</td>\n",
              "      <td>&lt;1H OCEAN</td>\n",
              "      <td>7.002212</td>\n",
              "      <td>0.152291</td>\n",
              "      <td>2.988938</td>\n",
              "    </tr>\n",
              "    <tr>\n",
              "      <th>4124</th>\n",
              "      <td>-120.83</td>\n",
              "      <td>35.36</td>\n",
              "      <td>28.0</td>\n",
              "      <td>4323.0</td>\n",
              "      <td>886.0</td>\n",
              "      <td>1650.0</td>\n",
              "      <td>705.0</td>\n",
              "      <td>2.7266</td>\n",
              "      <td>266800.0</td>\n",
              "      <td>NEAR OCEAN</td>\n",
              "      <td>6.131915</td>\n",
              "      <td>0.204950</td>\n",
              "      <td>2.340426</td>\n",
              "    </tr>\n",
              "    <tr>\n",
              "      <th>4125</th>\n",
              "      <td>-122.05</td>\n",
              "      <td>37.31</td>\n",
              "      <td>25.0</td>\n",
              "      <td>4111.0</td>\n",
              "      <td>538.0</td>\n",
              "      <td>1585.0</td>\n",
              "      <td>568.0</td>\n",
              "      <td>9.2298</td>\n",
              "      <td>500001.0</td>\n",
              "      <td>&lt;1H OCEAN</td>\n",
              "      <td>7.237676</td>\n",
              "      <td>0.130868</td>\n",
              "      <td>2.790493</td>\n",
              "    </tr>\n",
              "    <tr>\n",
              "      <th>4126</th>\n",
              "      <td>-119.76</td>\n",
              "      <td>36.77</td>\n",
              "      <td>36.0</td>\n",
              "      <td>2507.0</td>\n",
              "      <td>466.0</td>\n",
              "      <td>1227.0</td>\n",
              "      <td>474.0</td>\n",
              "      <td>2.7850</td>\n",
              "      <td>72300.0</td>\n",
              "      <td>INLAND</td>\n",
              "      <td>5.289030</td>\n",
              "      <td>0.185880</td>\n",
              "      <td>2.588608</td>\n",
              "    </tr>\n",
              "    <tr>\n",
              "      <th>4127</th>\n",
              "      <td>-118.37</td>\n",
              "      <td>34.22</td>\n",
              "      <td>17.0</td>\n",
              "      <td>1787.0</td>\n",
              "      <td>463.0</td>\n",
              "      <td>1671.0</td>\n",
              "      <td>448.0</td>\n",
              "      <td>3.5521</td>\n",
              "      <td>151500.0</td>\n",
              "      <td>&lt;1H OCEAN</td>\n",
              "      <td>3.988839</td>\n",
              "      <td>0.259093</td>\n",
              "      <td>3.729911</td>\n",
              "    </tr>\n",
              "  </tbody>\n",
              "</table>\n",
              "<p>4128 rows × 13 columns</p>\n",
              "</div>\n",
              "      <button class=\"colab-df-convert\" onclick=\"convertToInteractive('df-31816bb9-8d7d-4c53-8a55-ce651f46a901')\"\n",
              "              title=\"Convert this dataframe to an interactive table.\"\n",
              "              style=\"display:none;\">\n",
              "        \n",
              "  <svg xmlns=\"http://www.w3.org/2000/svg\" height=\"24px\"viewBox=\"0 0 24 24\"\n",
              "       width=\"24px\">\n",
              "    <path d=\"M0 0h24v24H0V0z\" fill=\"none\"/>\n",
              "    <path d=\"M18.56 5.44l.94 2.06.94-2.06 2.06-.94-2.06-.94-.94-2.06-.94 2.06-2.06.94zm-11 1L8.5 8.5l.94-2.06 2.06-.94-2.06-.94L8.5 2.5l-.94 2.06-2.06.94zm10 10l.94 2.06.94-2.06 2.06-.94-2.06-.94-.94-2.06-.94 2.06-2.06.94z\"/><path d=\"M17.41 7.96l-1.37-1.37c-.4-.4-.92-.59-1.43-.59-.52 0-1.04.2-1.43.59L10.3 9.45l-7.72 7.72c-.78.78-.78 2.05 0 2.83L4 21.41c.39.39.9.59 1.41.59.51 0 1.02-.2 1.41-.59l7.78-7.78 2.81-2.81c.8-.78.8-2.07 0-2.86zM5.41 20L4 18.59l7.72-7.72 1.47 1.35L5.41 20z\"/>\n",
              "  </svg>\n",
              "      </button>\n",
              "      \n",
              "  <style>\n",
              "    .colab-df-container {\n",
              "      display:flex;\n",
              "      flex-wrap:wrap;\n",
              "      gap: 12px;\n",
              "    }\n",
              "\n",
              "    .colab-df-convert {\n",
              "      background-color: #E8F0FE;\n",
              "      border: none;\n",
              "      border-radius: 50%;\n",
              "      cursor: pointer;\n",
              "      display: none;\n",
              "      fill: #1967D2;\n",
              "      height: 32px;\n",
              "      padding: 0 0 0 0;\n",
              "      width: 32px;\n",
              "    }\n",
              "\n",
              "    .colab-df-convert:hover {\n",
              "      background-color: #E2EBFA;\n",
              "      box-shadow: 0px 1px 2px rgba(60, 64, 67, 0.3), 0px 1px 3px 1px rgba(60, 64, 67, 0.15);\n",
              "      fill: #174EA6;\n",
              "    }\n",
              "\n",
              "    [theme=dark] .colab-df-convert {\n",
              "      background-color: #3B4455;\n",
              "      fill: #D2E3FC;\n",
              "    }\n",
              "\n",
              "    [theme=dark] .colab-df-convert:hover {\n",
              "      background-color: #434B5C;\n",
              "      box-shadow: 0px 1px 3px 1px rgba(0, 0, 0, 0.15);\n",
              "      filter: drop-shadow(0px 1px 2px rgba(0, 0, 0, 0.3));\n",
              "      fill: #FFFFFF;\n",
              "    }\n",
              "  </style>\n",
              "\n",
              "      <script>\n",
              "        const buttonEl =\n",
              "          document.querySelector('#df-31816bb9-8d7d-4c53-8a55-ce651f46a901 button.colab-df-convert');\n",
              "        buttonEl.style.display =\n",
              "          google.colab.kernel.accessAllowed ? 'block' : 'none';\n",
              "\n",
              "        async function convertToInteractive(key) {\n",
              "          const element = document.querySelector('#df-31816bb9-8d7d-4c53-8a55-ce651f46a901');\n",
              "          const dataTable =\n",
              "            await google.colab.kernel.invokeFunction('convertToInteractive',\n",
              "                                                     [key], {});\n",
              "          if (!dataTable) return;\n",
              "\n",
              "          const docLinkHtml = 'Like what you see? Visit the ' +\n",
              "            '<a target=\"_blank\" href=https://colab.research.google.com/notebooks/data_table.ipynb>data table notebook</a>'\n",
              "            + ' to learn more about interactive tables.';\n",
              "          element.innerHTML = '';\n",
              "          dataTable['output_type'] = 'display_data';\n",
              "          await google.colab.output.renderOutput(dataTable, element);\n",
              "          const docLink = document.createElement('div');\n",
              "          docLink.innerHTML = docLinkHtml;\n",
              "          element.appendChild(docLink);\n",
              "        }\n",
              "      </script>\n",
              "    </div>\n",
              "  </div>\n",
              "  "
            ]
          },
          "metadata": {},
          "execution_count": 16
        }
      ]
    },
    {
      "cell_type": "code",
      "source": [
        "# Create target values\n",
        "y_train = df_train.median_house_value.values\n",
        "y_val = df_val.median_house_value.values\n",
        "y_test = df_test.median_house_value.values"
      ],
      "metadata": {
        "id": "-xDNT40-XdUB"
      },
      "execution_count": 17,
      "outputs": []
    },
    {
      "cell_type": "code",
      "source": [
        "# Delete median_house_value columns\n",
        "del df_train['median_house_value']\n",
        "del df_val['median_house_value']\n",
        "del df_test['median_house_value']"
      ],
      "metadata": {
        "id": "AylDRdcqXdX3"
      },
      "execution_count": 18,
      "outputs": []
    },
    {
      "cell_type": "markdown",
      "source": [
        "### Question 2\n",
        "  1. Create the correlation matrix for the numerical features of your train dataset.\n",
        "  2. In a correlation matrix, you compute the correlation coefficient between every pair of features in the dataset.\n",
        "  3. What are the two features that have the biggest correlation in this dataset?\n",
        "\n",
        "Options:\n",
        "\n",
        "1. total_bedrooms and households\n",
        "2. total_bedrooms and total_rooms\n",
        "3. population and households\n",
        "4. population_per_household and total_rooms"
      ],
      "metadata": {
        "id": "hKKCDbRqOA0I"
      }
    },
    {
      "cell_type": "code",
      "source": [
        "# Correlation matrix for the numerical features\n",
        "full_corr = df_full_train.select_dtypes(include='number').corr()\n",
        "full_corr"
      ],
      "metadata": {
        "colab": {
          "base_uri": "https://localhost:8080/",
          "height": 490
        },
        "id": "e2TjMkJByJw-",
        "outputId": "2a0575cb-9213-4173-cbe0-41cc6c085d16"
      },
      "execution_count": 19,
      "outputs": [
        {
          "output_type": "execute_result",
          "data": {
            "text/plain": [
              "                          longitude  latitude  housing_median_age  \\\n",
              "longitude                  1.000000 -0.924485           -0.101818   \n",
              "latitude                  -0.924485  1.000000            0.005296   \n",
              "housing_median_age        -0.101818  0.005296            1.000000   \n",
              "total_rooms                0.038676 -0.029224           -0.360922   \n",
              "total_bedrooms             0.063064 -0.059998           -0.320624   \n",
              "population                 0.094276 -0.102499           -0.292283   \n",
              "households                 0.049306 -0.064061           -0.302796   \n",
              "median_income             -0.017040 -0.076571           -0.121711   \n",
              "median_house_value        -0.046349 -0.142983            0.103706   \n",
              "rooms_per_household       -0.029339  0.110695           -0.160892   \n",
              "bedrooms_per_room          0.097280 -0.118938            0.135495   \n",
              "population_per_household  -0.000598  0.005837            0.016245   \n",
              "\n",
              "                          total_rooms  total_bedrooms  population  households  \\\n",
              "longitude                    0.038676        0.063064    0.094276    0.049306   \n",
              "latitude                    -0.029224       -0.059998   -0.102499   -0.064061   \n",
              "housing_median_age          -0.360922       -0.320624   -0.292283   -0.302796   \n",
              "total_rooms                  1.000000        0.930489    0.857936    0.920482   \n",
              "total_bedrooms               0.930489        1.000000    0.878932    0.980255   \n",
              "population                   0.857936        0.878932    1.000000    0.907452   \n",
              "households                   0.920482        0.980255    0.907452    1.000000   \n",
              "median_income                0.198268       -0.009141    0.004122    0.012776   \n",
              "median_house_value           0.133989        0.047980   -0.026032    0.063714   \n",
              "rooms_per_household          0.136090       -0.001659   -0.073733   -0.083062   \n",
              "bedrooms_per_room           -0.189316        0.084149    0.035134    0.064185   \n",
              "population_per_household    -0.024991       -0.028536    0.072330   -0.027656   \n",
              "\n",
              "                          median_income  median_house_value  \\\n",
              "longitude                     -0.017040           -0.046349   \n",
              "latitude                      -0.076571           -0.142983   \n",
              "housing_median_age            -0.121711            0.103706   \n",
              "total_rooms                    0.198268            0.133989   \n",
              "total_bedrooms                -0.009141            0.047980   \n",
              "population                     0.004122           -0.026032   \n",
              "households                     0.012776            0.063714   \n",
              "median_income                  1.000000            0.690647   \n",
              "median_house_value             0.690647            1.000000   \n",
              "rooms_per_household            0.336013            0.158485   \n",
              "bedrooms_per_room             -0.616669           -0.257419   \n",
              "population_per_household       0.022061           -0.022030   \n",
              "\n",
              "                          rooms_per_household  bedrooms_per_room  \\\n",
              "longitude                           -0.029339           0.097280   \n",
              "latitude                             0.110695          -0.118938   \n",
              "housing_median_age                  -0.160892           0.135495   \n",
              "total_rooms                          0.136090          -0.189316   \n",
              "total_bedrooms                      -0.001659           0.084149   \n",
              "population                          -0.073733           0.035134   \n",
              "households                          -0.083062           0.064185   \n",
              "median_income                        0.336013          -0.616669   \n",
              "median_house_value                   0.158485          -0.257419   \n",
              "rooms_per_household                  1.000000          -0.435169   \n",
              "bedrooms_per_room                   -0.435169           1.000000   \n",
              "population_per_household            -0.004922           0.003938   \n",
              "\n",
              "                          population_per_household  \n",
              "longitude                                -0.000598  \n",
              "latitude                                  0.005837  \n",
              "housing_median_age                        0.016245  \n",
              "total_rooms                              -0.024991  \n",
              "total_bedrooms                           -0.028536  \n",
              "population                                0.072330  \n",
              "households                               -0.027656  \n",
              "median_income                             0.022061  \n",
              "median_house_value                       -0.022030  \n",
              "rooms_per_household                      -0.004922  \n",
              "bedrooms_per_room                         0.003938  \n",
              "population_per_household                  1.000000  "
            ],
            "text/html": [
              "\n",
              "  <div id=\"df-40e72358-5a80-415a-b4b2-93eae575b3ad\">\n",
              "    <div class=\"colab-df-container\">\n",
              "      <div>\n",
              "<style scoped>\n",
              "    .dataframe tbody tr th:only-of-type {\n",
              "        vertical-align: middle;\n",
              "    }\n",
              "\n",
              "    .dataframe tbody tr th {\n",
              "        vertical-align: top;\n",
              "    }\n",
              "\n",
              "    .dataframe thead th {\n",
              "        text-align: right;\n",
              "    }\n",
              "</style>\n",
              "<table border=\"1\" class=\"dataframe\">\n",
              "  <thead>\n",
              "    <tr style=\"text-align: right;\">\n",
              "      <th></th>\n",
              "      <th>longitude</th>\n",
              "      <th>latitude</th>\n",
              "      <th>housing_median_age</th>\n",
              "      <th>total_rooms</th>\n",
              "      <th>total_bedrooms</th>\n",
              "      <th>population</th>\n",
              "      <th>households</th>\n",
              "      <th>median_income</th>\n",
              "      <th>median_house_value</th>\n",
              "      <th>rooms_per_household</th>\n",
              "      <th>bedrooms_per_room</th>\n",
              "      <th>population_per_household</th>\n",
              "    </tr>\n",
              "  </thead>\n",
              "  <tbody>\n",
              "    <tr>\n",
              "      <th>longitude</th>\n",
              "      <td>1.000000</td>\n",
              "      <td>-0.924485</td>\n",
              "      <td>-0.101818</td>\n",
              "      <td>0.038676</td>\n",
              "      <td>0.063064</td>\n",
              "      <td>0.094276</td>\n",
              "      <td>0.049306</td>\n",
              "      <td>-0.017040</td>\n",
              "      <td>-0.046349</td>\n",
              "      <td>-0.029339</td>\n",
              "      <td>0.097280</td>\n",
              "      <td>-0.000598</td>\n",
              "    </tr>\n",
              "    <tr>\n",
              "      <th>latitude</th>\n",
              "      <td>-0.924485</td>\n",
              "      <td>1.000000</td>\n",
              "      <td>0.005296</td>\n",
              "      <td>-0.029224</td>\n",
              "      <td>-0.059998</td>\n",
              "      <td>-0.102499</td>\n",
              "      <td>-0.064061</td>\n",
              "      <td>-0.076571</td>\n",
              "      <td>-0.142983</td>\n",
              "      <td>0.110695</td>\n",
              "      <td>-0.118938</td>\n",
              "      <td>0.005837</td>\n",
              "    </tr>\n",
              "    <tr>\n",
              "      <th>housing_median_age</th>\n",
              "      <td>-0.101818</td>\n",
              "      <td>0.005296</td>\n",
              "      <td>1.000000</td>\n",
              "      <td>-0.360922</td>\n",
              "      <td>-0.320624</td>\n",
              "      <td>-0.292283</td>\n",
              "      <td>-0.302796</td>\n",
              "      <td>-0.121711</td>\n",
              "      <td>0.103706</td>\n",
              "      <td>-0.160892</td>\n",
              "      <td>0.135495</td>\n",
              "      <td>0.016245</td>\n",
              "    </tr>\n",
              "    <tr>\n",
              "      <th>total_rooms</th>\n",
              "      <td>0.038676</td>\n",
              "      <td>-0.029224</td>\n",
              "      <td>-0.360922</td>\n",
              "      <td>1.000000</td>\n",
              "      <td>0.930489</td>\n",
              "      <td>0.857936</td>\n",
              "      <td>0.920482</td>\n",
              "      <td>0.198268</td>\n",
              "      <td>0.133989</td>\n",
              "      <td>0.136090</td>\n",
              "      <td>-0.189316</td>\n",
              "      <td>-0.024991</td>\n",
              "    </tr>\n",
              "    <tr>\n",
              "      <th>total_bedrooms</th>\n",
              "      <td>0.063064</td>\n",
              "      <td>-0.059998</td>\n",
              "      <td>-0.320624</td>\n",
              "      <td>0.930489</td>\n",
              "      <td>1.000000</td>\n",
              "      <td>0.878932</td>\n",
              "      <td>0.980255</td>\n",
              "      <td>-0.009141</td>\n",
              "      <td>0.047980</td>\n",
              "      <td>-0.001659</td>\n",
              "      <td>0.084149</td>\n",
              "      <td>-0.028536</td>\n",
              "    </tr>\n",
              "    <tr>\n",
              "      <th>population</th>\n",
              "      <td>0.094276</td>\n",
              "      <td>-0.102499</td>\n",
              "      <td>-0.292283</td>\n",
              "      <td>0.857936</td>\n",
              "      <td>0.878932</td>\n",
              "      <td>1.000000</td>\n",
              "      <td>0.907452</td>\n",
              "      <td>0.004122</td>\n",
              "      <td>-0.026032</td>\n",
              "      <td>-0.073733</td>\n",
              "      <td>0.035134</td>\n",
              "      <td>0.072330</td>\n",
              "    </tr>\n",
              "    <tr>\n",
              "      <th>households</th>\n",
              "      <td>0.049306</td>\n",
              "      <td>-0.064061</td>\n",
              "      <td>-0.302796</td>\n",
              "      <td>0.920482</td>\n",
              "      <td>0.980255</td>\n",
              "      <td>0.907452</td>\n",
              "      <td>1.000000</td>\n",
              "      <td>0.012776</td>\n",
              "      <td>0.063714</td>\n",
              "      <td>-0.083062</td>\n",
              "      <td>0.064185</td>\n",
              "      <td>-0.027656</td>\n",
              "    </tr>\n",
              "    <tr>\n",
              "      <th>median_income</th>\n",
              "      <td>-0.017040</td>\n",
              "      <td>-0.076571</td>\n",
              "      <td>-0.121711</td>\n",
              "      <td>0.198268</td>\n",
              "      <td>-0.009141</td>\n",
              "      <td>0.004122</td>\n",
              "      <td>0.012776</td>\n",
              "      <td>1.000000</td>\n",
              "      <td>0.690647</td>\n",
              "      <td>0.336013</td>\n",
              "      <td>-0.616669</td>\n",
              "      <td>0.022061</td>\n",
              "    </tr>\n",
              "    <tr>\n",
              "      <th>median_house_value</th>\n",
              "      <td>-0.046349</td>\n",
              "      <td>-0.142983</td>\n",
              "      <td>0.103706</td>\n",
              "      <td>0.133989</td>\n",
              "      <td>0.047980</td>\n",
              "      <td>-0.026032</td>\n",
              "      <td>0.063714</td>\n",
              "      <td>0.690647</td>\n",
              "      <td>1.000000</td>\n",
              "      <td>0.158485</td>\n",
              "      <td>-0.257419</td>\n",
              "      <td>-0.022030</td>\n",
              "    </tr>\n",
              "    <tr>\n",
              "      <th>rooms_per_household</th>\n",
              "      <td>-0.029339</td>\n",
              "      <td>0.110695</td>\n",
              "      <td>-0.160892</td>\n",
              "      <td>0.136090</td>\n",
              "      <td>-0.001659</td>\n",
              "      <td>-0.073733</td>\n",
              "      <td>-0.083062</td>\n",
              "      <td>0.336013</td>\n",
              "      <td>0.158485</td>\n",
              "      <td>1.000000</td>\n",
              "      <td>-0.435169</td>\n",
              "      <td>-0.004922</td>\n",
              "    </tr>\n",
              "    <tr>\n",
              "      <th>bedrooms_per_room</th>\n",
              "      <td>0.097280</td>\n",
              "      <td>-0.118938</td>\n",
              "      <td>0.135495</td>\n",
              "      <td>-0.189316</td>\n",
              "      <td>0.084149</td>\n",
              "      <td>0.035134</td>\n",
              "      <td>0.064185</td>\n",
              "      <td>-0.616669</td>\n",
              "      <td>-0.257419</td>\n",
              "      <td>-0.435169</td>\n",
              "      <td>1.000000</td>\n",
              "      <td>0.003938</td>\n",
              "    </tr>\n",
              "    <tr>\n",
              "      <th>population_per_household</th>\n",
              "      <td>-0.000598</td>\n",
              "      <td>0.005837</td>\n",
              "      <td>0.016245</td>\n",
              "      <td>-0.024991</td>\n",
              "      <td>-0.028536</td>\n",
              "      <td>0.072330</td>\n",
              "      <td>-0.027656</td>\n",
              "      <td>0.022061</td>\n",
              "      <td>-0.022030</td>\n",
              "      <td>-0.004922</td>\n",
              "      <td>0.003938</td>\n",
              "      <td>1.000000</td>\n",
              "    </tr>\n",
              "  </tbody>\n",
              "</table>\n",
              "</div>\n",
              "      <button class=\"colab-df-convert\" onclick=\"convertToInteractive('df-40e72358-5a80-415a-b4b2-93eae575b3ad')\"\n",
              "              title=\"Convert this dataframe to an interactive table.\"\n",
              "              style=\"display:none;\">\n",
              "        \n",
              "  <svg xmlns=\"http://www.w3.org/2000/svg\" height=\"24px\"viewBox=\"0 0 24 24\"\n",
              "       width=\"24px\">\n",
              "    <path d=\"M0 0h24v24H0V0z\" fill=\"none\"/>\n",
              "    <path d=\"M18.56 5.44l.94 2.06.94-2.06 2.06-.94-2.06-.94-.94-2.06-.94 2.06-2.06.94zm-11 1L8.5 8.5l.94-2.06 2.06-.94-2.06-.94L8.5 2.5l-.94 2.06-2.06.94zm10 10l.94 2.06.94-2.06 2.06-.94-2.06-.94-.94-2.06-.94 2.06-2.06.94z\"/><path d=\"M17.41 7.96l-1.37-1.37c-.4-.4-.92-.59-1.43-.59-.52 0-1.04.2-1.43.59L10.3 9.45l-7.72 7.72c-.78.78-.78 2.05 0 2.83L4 21.41c.39.39.9.59 1.41.59.51 0 1.02-.2 1.41-.59l7.78-7.78 2.81-2.81c.8-.78.8-2.07 0-2.86zM5.41 20L4 18.59l7.72-7.72 1.47 1.35L5.41 20z\"/>\n",
              "  </svg>\n",
              "      </button>\n",
              "      \n",
              "  <style>\n",
              "    .colab-df-container {\n",
              "      display:flex;\n",
              "      flex-wrap:wrap;\n",
              "      gap: 12px;\n",
              "    }\n",
              "\n",
              "    .colab-df-convert {\n",
              "      background-color: #E8F0FE;\n",
              "      border: none;\n",
              "      border-radius: 50%;\n",
              "      cursor: pointer;\n",
              "      display: none;\n",
              "      fill: #1967D2;\n",
              "      height: 32px;\n",
              "      padding: 0 0 0 0;\n",
              "      width: 32px;\n",
              "    }\n",
              "\n",
              "    .colab-df-convert:hover {\n",
              "      background-color: #E2EBFA;\n",
              "      box-shadow: 0px 1px 2px rgba(60, 64, 67, 0.3), 0px 1px 3px 1px rgba(60, 64, 67, 0.15);\n",
              "      fill: #174EA6;\n",
              "    }\n",
              "\n",
              "    [theme=dark] .colab-df-convert {\n",
              "      background-color: #3B4455;\n",
              "      fill: #D2E3FC;\n",
              "    }\n",
              "\n",
              "    [theme=dark] .colab-df-convert:hover {\n",
              "      background-color: #434B5C;\n",
              "      box-shadow: 0px 1px 3px 1px rgba(0, 0, 0, 0.15);\n",
              "      filter: drop-shadow(0px 1px 2px rgba(0, 0, 0, 0.3));\n",
              "      fill: #FFFFFF;\n",
              "    }\n",
              "  </style>\n",
              "\n",
              "      <script>\n",
              "        const buttonEl =\n",
              "          document.querySelector('#df-40e72358-5a80-415a-b4b2-93eae575b3ad button.colab-df-convert');\n",
              "        buttonEl.style.display =\n",
              "          google.colab.kernel.accessAllowed ? 'block' : 'none';\n",
              "\n",
              "        async function convertToInteractive(key) {\n",
              "          const element = document.querySelector('#df-40e72358-5a80-415a-b4b2-93eae575b3ad');\n",
              "          const dataTable =\n",
              "            await google.colab.kernel.invokeFunction('convertToInteractive',\n",
              "                                                     [key], {});\n",
              "          if (!dataTable) return;\n",
              "\n",
              "          const docLinkHtml = 'Like what you see? Visit the ' +\n",
              "            '<a target=\"_blank\" href=https://colab.research.google.com/notebooks/data_table.ipynb>data table notebook</a>'\n",
              "            + ' to learn more about interactive tables.';\n",
              "          element.innerHTML = '';\n",
              "          dataTable['output_type'] = 'display_data';\n",
              "          await google.colab.output.renderOutput(dataTable, element);\n",
              "          const docLink = document.createElement('div');\n",
              "          docLink.innerHTML = docLinkHtml;\n",
              "          element.appendChild(docLink);\n",
              "        }\n",
              "      </script>\n",
              "    </div>\n",
              "  </div>\n",
              "  "
            ]
          },
          "metadata": {},
          "execution_count": 19
        }
      ]
    },
    {
      "cell_type": "code",
      "source": [
        "# Heatmap of the correlation matrix\n",
        "plt.figure(figsize = (10,10))\n",
        "sns.heatmap(full_corr, cmap='Blues');"
      ],
      "metadata": {
        "colab": {
          "base_uri": "https://localhost:8080/",
          "height": 717
        },
        "id": "D09q_Ga0yKPc",
        "outputId": "bd2d3df3-21bd-4f28-d1d0-094d73567715"
      },
      "execution_count": 20,
      "outputs": [
        {
          "output_type": "display_data",
          "data": {
            "text/plain": [
              "<Figure size 720x720 with 2 Axes>"
            ],
            "image/png": "[encoded data removed]"
          },
          "metadata": {
            "needs_background": "light"
          }
        }
      ]
    },
    {
      "cell_type": "code",
      "source": [
        "corr_dict = {}\n",
        "for col in list(full_corr.columns.to_list()):\n",
        "  corr_dict[col] = full_corr[col].nlargest(2)[1]\n",
        "\n",
        "corr_dict"
      ],
      "metadata": {
        "colab": {
          "base_uri": "https://localhost:8080/"
        },
        "id": "oeXqFITz_FZv",
        "outputId": "ec1c8304-19ab-49c5-f0a2-de627557e087"
      },
      "execution_count": 21,
      "outputs": [
        {
          "output_type": "execute_result",
          "data": {
            "text/plain": [
              "{'longitude': 0.09728042743231076,\n",
              " 'latitude': 0.11069480271319962,\n",
              " 'housing_median_age': 0.13549477398605864,\n",
              " 'total_rooms': 0.9304892875010856,\n",
              " 'total_bedrooms': 0.9802545152967752,\n",
              " 'population': 0.9074517390523992,\n",
              " 'households': 0.9802545152967752,\n",
              " 'median_income': 0.6906466061467701,\n",
              " 'median_house_value': 0.6906466061467701,\n",
              " 'rooms_per_household': 0.336012863410619,\n",
              " 'bedrooms_per_room': 0.13549477398605864,\n",
              " 'population_per_household': 0.07232952058044864}"
            ]
          },
          "metadata": {},
          "execution_count": 21
        }
      ]
    },
    {
      "cell_type": "code",
      "source": [
        "corr_series = pd.Series(corr_dict)\n",
        "corr_series"
      ],
      "metadata": {
        "colab": {
          "base_uri": "https://localhost:8080/"
        },
        "id": "pZSpO3NYH92F",
        "outputId": "d80162ec-98bb-43c6-bf5f-d5a02729f56c"
      },
      "execution_count": 22,
      "outputs": [
        {
          "output_type": "execute_result",
          "data": {
            "text/plain": [
              "longitude                   0.097280\n",
              "latitude                    0.110695\n",
              "housing_median_age          0.135495\n",
              "total_rooms                 0.930489\n",
              "total_bedrooms              0.980255\n",
              "population                  0.907452\n",
              "households                  0.980255\n",
              "median_income               0.690647\n",
              "median_house_value          0.690647\n",
              "rooms_per_household         0.336013\n",
              "bedrooms_per_room           0.135495\n",
              "population_per_household    0.072330\n",
              "dtype: float64"
            ]
          },
          "metadata": {},
          "execution_count": 22
        }
      ]
    },
    {
      "cell_type": "code",
      "source": [
        "corr_series[corr_series == corr_series.max()]"
      ],
      "metadata": {
        "colab": {
          "base_uri": "https://localhost:8080/"
        },
        "id": "8JNdCYE1cNWV",
        "outputId": "5ed0f1f6-b375-47ae-c7a5-9cb26c702e9d"
      },
      "execution_count": 23,
      "outputs": [
        {
          "output_type": "execute_result",
          "data": {
            "text/plain": [
              "total_bedrooms    0.980255\n",
              "households        0.980255\n",
              "dtype: float64"
            ]
          },
          "metadata": {},
          "execution_count": 23
        }
      ]
    },
    {
      "cell_type": "markdown",
      "source": [
        "Answer: total_bedrooms and households"
      ],
      "metadata": {
        "id": "nX6G1COROdCB"
      }
    },
    {
      "cell_type": "markdown",
      "source": [
        "### Make median_house_value binary\n",
        "1. We need to turn the median_house_value variable from numeric into binary.\n",
        "2. Let's create a variable above_average which is 1 if the median_house_value is above its mean value and 0 otherwise."
      ],
      "metadata": {
        "id": "jqevs6L7OifB"
      }
    },
    {
      "cell_type": "code",
      "source": [
        "# Convert y_train to binary\n",
        "y_train = pd.Series([1 if x > y_train.mean() else 0 for x in y_train])\n",
        "y_train.head()"
      ],
      "metadata": {
        "colab": {
          "base_uri": "https://localhost:8080/"
        },
        "id": "yw-QLeZcLidY",
        "outputId": "ff701c8c-0979-4898-d888-9a8aca93145e"
      },
      "execution_count": 24,
      "outputs": [
        {
          "output_type": "execute_result",
          "data": {
            "text/plain": [
              "0    1\n",
              "1    1\n",
              "2    0\n",
              "3    1\n",
              "4    1\n",
              "dtype: int64"
            ]
          },
          "metadata": {},
          "execution_count": 24
        }
      ]
    },
    {
      "cell_type": "markdown",
      "source": [
        "### Question 3\n",
        "Calculate the mutual information score with the (binarized) price for the categorical variable that we have. Use the training set only.\n",
        "What is the value of mutual information?\n",
        "Round it to 2 decimal digits using round(score, 2)\n",
        "\n",
        "Options:\n",
        "\n",
        "1. 0.26\n",
        "2. 0\n",
        "3. 0.10\n",
        "4. 0.16"
      ],
      "metadata": {
        "id": "NYEy-qs3ZItZ"
      }
    },
    {
      "cell_type": "code",
      "source": [
        "# Get info of df_train\n",
        "df_train.info()"
      ],
      "metadata": {
        "colab": {
          "base_uri": "https://localhost:8080/"
        },
        "id": "x1o98Ki4YHa4",
        "outputId": "1110c8cb-5c0c-4ab7-a3d7-dccbd3b4a74b"
      },
      "execution_count": 25,
      "outputs": [
        {
          "output_type": "stream",
          "name": "stdout",
          "text": [
            "<class 'pandas.core.frame.DataFrame'>\n",
            "Int64Index: 12384 entries, 17244 to 8472\n",
            "Data columns (total 12 columns):\n",
            " #   Column                    Non-Null Count  Dtype  \n",
            "---  ------                    --------------  -----  \n",
            " 0   longitude                 12384 non-null  float64\n",
            " 1   latitude                  12384 non-null  float64\n",
            " 2   housing_median_age        12384 non-null  float64\n",
            " 3   total_rooms               12384 non-null  float64\n",
            " 4   total_bedrooms            12384 non-null  float64\n",
            " 5   population                12384 non-null  float64\n",
            " 6   households                12384 non-null  float64\n",
            " 7   median_income             12384 non-null  float64\n",
            " 8   ocean_proximity           12384 non-null  object \n",
            " 9   rooms_per_household       12384 non-null  float64\n",
            " 10  bedrooms_per_room         12384 non-null  float64\n",
            " 11  population_per_household  12384 non-null  float64\n",
            "dtypes: float64(11), object(1)\n",
            "memory usage: 1.2+ MB\n"
          ]
        }
      ]
    },
    {
      "cell_type": "code",
      "source": [
        "# Calculate the mutual information score of ocean_proximity\n",
        "round(mutual_info_score(y_train, df_train.ocean_proximity), 2)"
      ],
      "metadata": {
        "colab": {
          "base_uri": "https://localhost:8080/"
        },
        "id": "XV-iLN9bYXv_",
        "outputId": "bb33bf56-efc1-4464-fbb0-7ea0f9f6c87b"
      },
      "execution_count": 26,
      "outputs": [
        {
          "output_type": "execute_result",
          "data": {
            "text/plain": [
              "0.1"
            ]
          },
          "metadata": {},
          "execution_count": 26
        }
      ]
    },
    {
      "cell_type": "markdown",
      "source": [
        "Answer: 0.10"
      ],
      "metadata": {
        "id": "lgjEEFFz-MDz"
      }
    },
    {
      "cell_type": "markdown",
      "source": [
        "### Question 4\n",
        "Now let's train a logistic regression\n",
        "Remember that we have one categorical variable ocean_proximity in the data. Include it using one-hot encoding.\n",
        "Fit the model on the training dataset.\n",
        "To make sure the results are reproducible across different versions of Scikit-Learn, fit the model with these parameters:\n",
        "model = LogisticRegression(solver=\"liblinear\", C=1.0, max_iter=1000, random_state=42)\n",
        "Calculate the accuracy on the validation dataset and round it to 2 decimal digits.\n",
        "\n",
        "Options:\n",
        "\n",
        "1. 0.60\n",
        "2. 0.72\n",
        "3. 0.84\n",
        "4. 0.95"
      ],
      "metadata": {
        "id": "xljAFvzw_2Fk"
      }
    },
    {
      "cell_type": "code",
      "source": [
        "# Convert to dictionary\n",
        "train_dict = df_train.to_dict(orient='records')\n",
        "val_dict = df_val.to_dict(orient='records')"
      ],
      "metadata": {
        "id": "INgzzeihcNdJ"
      },
      "execution_count": 27,
      "outputs": []
    },
    {
      "cell_type": "code",
      "source": [
        "# Instantiate a dict vectoriser\n",
        "dv = DictVectorizer(sparse=False)"
      ],
      "metadata": {
        "id": "FU0cTvooef2Z"
      },
      "execution_count": 28,
      "outputs": []
    },
    {
      "cell_type": "code",
      "source": [
        "# Use dv to fit and transform dictionaries\n",
        "X_train = dv.fit_transform(train_dict)\n",
        "X_val = dv.fit_transform(val_dict)"
      ],
      "metadata": {
        "id": "bscUT9EYlEDg"
      },
      "execution_count": 29,
      "outputs": []
    },
    {
      "cell_type": "code",
      "source": [
        "# Instantiate logistic regression\n",
        "model = LogisticRegression(solver=\"liblinear\", C=1.0, max_iter=1000, random_state=42)"
      ],
      "metadata": {
        "id": "iQq-PkBIef6Z"
      },
      "execution_count": 30,
      "outputs": []
    },
    {
      "cell_type": "code",
      "source": [
        "# Fit model on data\n",
        "model.fit(X_train, y_train)"
      ],
      "metadata": {
        "colab": {
          "base_uri": "https://localhost:8080/"
        },
        "id": "t13jdK9sfhw-",
        "outputId": "778684fe-1da4-4ac8-b21f-74c7445e0647"
      },
      "execution_count": 31,
      "outputs": [
        {
          "output_type": "execute_result",
          "data": {
            "text/plain": [
              "LogisticRegression(max_iter=1000, random_state=42, solver='liblinear')"
            ]
          },
          "metadata": {},
          "execution_count": 31
        }
      ]
    },
    {
      "cell_type": "code",
      "source": [
        "# Compute val predictions\n",
        "pred_val = model.predict(X_val)"
      ],
      "metadata": {
        "id": "Td_KWJTvfh2P"
      },
      "execution_count": 32,
      "outputs": []
    },
    {
      "cell_type": "code",
      "source": [
        "# Convert y_val to binary\n",
        "y_val = pd.Series([1 if x > y_val.mean() else 0 for x in y_val])"
      ],
      "metadata": {
        "id": "PDQP0pF3pL3U"
      },
      "execution_count": 33,
      "outputs": []
    },
    {
      "cell_type": "code",
      "source": [
        "# Compute val accuracy\n",
        "acc_val = accuracy_score(y_val, pred_val)\n",
        "round(acc_val, 2)"
      ],
      "metadata": {
        "colab": {
          "base_uri": "https://localhost:8080/"
        },
        "id": "PHmiPP5efh61",
        "outputId": "d539a8cb-60c5-401c-b645-6412d6aacfeb"
      },
      "execution_count": 34,
      "outputs": [
        {
          "output_type": "execute_result",
          "data": {
            "text/plain": [
              "0.84"
            ]
          },
          "metadata": {},
          "execution_count": 34
        }
      ]
    },
    {
      "cell_type": "markdown",
      "source": [
        "Answer: 0.84"
      ],
      "metadata": {
        "id": "xlDgs3N4LIR2"
      }
    },
    {
      "cell_type": "markdown",
      "source": [
        "### Question 5\n",
        "1. Let's find the least useful feature using the feature elimination technique.\n",
        "2. Train a model with all these features (using the same parameters as in Q4).\n",
        "3. Now exclude each feature from this set and train a model without it. Record the accuracy for each model.\n",
        "4. For each feature, calculate the difference between the original accuracy and the accuracy without the feature.\n",
        "5. Which of following feature has the smallest difference?\n",
        "  1. total_rooms\n",
        "  2. total_bedrooms\n",
        "  3. population\n",
        "  4. households\n",
        "\n",
        "note: the difference doesn't have to be positive"
      ],
      "metadata": {
        "id": "JFp2joOwL4YL"
      }
    },
    {
      "cell_type": "code",
      "source": [
        "# Define model which calculates removal accuracy score\n",
        "\n",
        "def remove_score(col_name):\n",
        "\n",
        "  # Read dataset to dataframe, drop and fill\n",
        "  df = pd.read_csv('ML_Zoomcamp_Session_#3_data.csv') \\\n",
        "      .drop(columns=col_name, axis=1) \\\n",
        "      .fillna(0)\n",
        "\n",
        "  # Split to full_train and test\n",
        "  df_full_train, df_test = train_test_split(df, test_size=0.2, random_state=42)\n",
        "\n",
        "  # Split to train and val\n",
        "  df_train, df_val = train_test_split(df_full_train, \n",
        "                                      test_size=0.25, random_state=42)\n",
        "\n",
        "  # Reset index\n",
        "  df_train.reset_index(drop=True)\n",
        "  df_val.reset_index(drop=True)\n",
        "  df_test.reset_index(drop=True)\n",
        "\n",
        "  # Create target values\n",
        "  y_train = df_train.median_house_value.values\n",
        "  y_val = df_val.median_house_value.values\n",
        "  y_test = df_test.median_house_value.values\n",
        "\n",
        "  # Delete median_house_value columns\n",
        "  del df_train['median_house_value']\n",
        "  del df_val['median_house_value']\n",
        "  del df_test['median_house_value']\n",
        "\n",
        "  # Convert to binary\n",
        "  y_train = pd.Series([1 if x > y_train.mean() else 0 for x in y_train])\n",
        "  y_val = pd.Series([1 if x > y_val.mean() else 0 for x in y_val])\n",
        "\n",
        "\n",
        "  # Convert to dictionary\n",
        "  train_dict = df_train.to_dict(orient='records')\n",
        "  val_dict = df_val.to_dict(orient='records')\n",
        "\n",
        "  # Instantiate a dict vectoriser\n",
        "  dv = DictVectorizer(sparse=False)\n",
        "\n",
        "  # Fit and transform dictionaries with dv\n",
        "  X_train = dv.fit_transform(train_dict)\n",
        "  X_val = dv.fit_transform(val_dict)\n",
        "\n",
        "  # Instantiate logistic regression\n",
        "  model = LogisticRegression(solver=\"liblinear\", C=1.0, \n",
        "                            max_iter=1000, random_state=42)\n",
        "\n",
        "  # Fit model on data\n",
        "  model.fit(X_train, y_train)\n",
        "\n",
        "  # Compute val predictions\n",
        "  pred_val = model.predict(X_val)\n",
        "\n",
        "  # Compute val accuracy\n",
        "  acc_val = accuracy_score(y_val, pred_val)\n",
        "\n",
        "  return round(acc_val, 2)"
      ],
      "metadata": {
        "id": "JkLiz-h3-jBG"
      },
      "execution_count": 74,
      "outputs": []
    },
    {
      "cell_type": "code",
      "source": [
        "# Define original_accuracy\n",
        "original_accuracy = 0.84\n",
        "\n",
        "# Compute accuracy score for total_rooms removal\n",
        "total_rooms_accuracy = remove_score('total_rooms')\n",
        "print('total_rooms_accuracy:', total_rooms_accuracy)\n",
        "\n",
        "# Compute difference\n",
        "total_rooms_difference = round(original_accuracy - total_rooms_accuracy, 2)\n",
        "print('total_rooms_difference:', total_rooms_difference)"
      ],
      "metadata": {
        "colab": {
          "base_uri": "https://localhost:8080/"
        },
        "id": "ogSpYB23Qz0s",
        "outputId": "151fee3c-06a7-4740-f1de-0c491d03b7aa"
      },
      "execution_count": 36,
      "outputs": [
        {
          "output_type": "stream",
          "name": "stdout",
          "text": [
            "total_rooms_accuracy: 0.84\n",
            "total_rooms_difference: 0.0\n"
          ]
        }
      ]
    },
    {
      "cell_type": "code",
      "source": [
        "# Compute accuracy score for total_bedrooms removal\n",
        "total_bedrooms_accuracy = remove_score('total_bedrooms')\n",
        "print('total_bedrooms_accuracy:', total_bedrooms_accuracy)\n",
        "\n",
        "# Compute difference\n",
        "total_bedrooms_difference = round(original_accuracy - total_bedrooms_accuracy, 2)\n",
        "print('total_bedrooms_difference:', total_bedrooms_difference)"
      ],
      "metadata": {
        "colab": {
          "base_uri": "https://localhost:8080/"
        },
        "id": "XHSmTBTGRWz5",
        "outputId": "35f787d8-578b-4187-dc42-356090291007"
      },
      "execution_count": 37,
      "outputs": [
        {
          "output_type": "stream",
          "name": "stdout",
          "text": [
            "total_bedrooms_accuracy: 0.84\n",
            "total_bedrooms_difference: 0.0\n"
          ]
        }
      ]
    },
    {
      "cell_type": "code",
      "source": [
        "# Compute accuracy score for population removal\n",
        "population_accuracy = remove_score('population')\n",
        "print('population_accuracy:', population_accuracy)\n",
        "\n",
        "# Compute difference\n",
        "population_difference = round(original_accuracy - population_accuracy, 2)\n",
        "print('population_difference:', population_difference)"
      ],
      "metadata": {
        "colab": {
          "base_uri": "https://localhost:8080/"
        },
        "id": "VB0Ade51Uvkl",
        "outputId": "1f63b28a-3de8-4330-9409-09d70ef4c8a8"
      },
      "execution_count": 38,
      "outputs": [
        {
          "output_type": "stream",
          "name": "stdout",
          "text": [
            "population_accuracy: 0.82\n",
            "population_difference: 0.02\n"
          ]
        }
      ]
    },
    {
      "cell_type": "code",
      "source": [
        "# Compute accuracy score for households removal\n",
        "households_accuracy = remove_score('households')\n",
        "print('households_accuracy:', households_accuracy)\n",
        "\n",
        "# Compute difference\n",
        "households_difference = round(original_accuracy - households_accuracy, 2)\n",
        "print('households_difference:', households_difference)"
      ],
      "metadata": {
        "colab": {
          "base_uri": "https://localhost:8080/"
        },
        "id": "bevBqPuiUvym",
        "outputId": "44ab696f-c59d-49df-c734-7c4dc5215175"
      },
      "execution_count": 39,
      "outputs": [
        {
          "output_type": "stream",
          "name": "stdout",
          "text": [
            "households_accuracy: 0.83\n",
            "households_difference: 0.01\n"
          ]
        }
      ]
    },
    {
      "cell_type": "markdown",
      "source": [
        "Answer: total_rooms and total_bedrooms"
      ],
      "metadata": {
        "id": "POTieAihs37s"
      }
    },
    {
      "cell_type": "markdown",
      "source": [
        "### Question 6\n",
        "1. For this question, we'll see how to use a linear regression model from Scikit-Learn\n",
        "2. We'll need to use the original column 'median_house_value'. Apply the logarithmic transformation to this column.\n",
        "3. Fit the Ridge regression model (model = Ridge(alpha=a, solver=\"sag\", random_state=42)) on the training data.\n",
        "4. This model has a parameter alpha. Let's try the following values: [0, 0.01, 0.1, 1, 10]\n",
        "5. Which of these alphas leads to the best RMSE on the validation set? Round your RMSE scores to 3 decimal digits.\n",
        "\n",
        "If there are multiple options, select the smallest alpha.\n",
        "\n",
        "Options:\n",
        "\n",
        "1. 0\n",
        "2. 0.01\n",
        "3. 0.1\n",
        "4. 1\n",
        "5. 10"
      ],
      "metadata": {
        "id": "4G54HEnfwNia"
      }
    },
    {
      "cell_type": "code",
      "source": [
        "# Define model which calculates RMSE\n",
        "\n",
        "def ridge_rmse(a):\n",
        "\n",
        "  # Read dataset to dataframe, drop and fill\n",
        "  df = pd.read_csv('ML_Zoomcamp_Session_#3_data.csv').fillna(0)\n",
        "\n",
        "  # Create new columns\n",
        "  df['rooms_per_household'] = df.total_rooms / df.households\n",
        "  df['bedrooms_per_room'] = df.total_bedrooms / df.total_rooms\n",
        "  df['population_per_household'] = df.population / df.households\n",
        "\n",
        "  # Apply logarithmic transformation\n",
        "  df['median_house_value'] = np.log1p(df['median_house_value'])\n",
        "\n",
        "  # Split to full_train and test\n",
        "  df_full_train, df_test = train_test_split(df, test_size=0.2, random_state=42)\n",
        "\n",
        "  # Split to train and val\n",
        "  df_train, df_val = train_test_split(df_full_train, \n",
        "                                      test_size=0.25, random_state=42)\n",
        "\n",
        "  # Reset index\n",
        "  df_train.reset_index(drop=True)\n",
        "  df_val.reset_index(drop=True)\n",
        "  df_test.reset_index(drop=True)\n",
        "\n",
        "  # Create target values\n",
        "  y_train = df_train.median_house_value.values\n",
        "  y_val = df_val.median_house_value.values\n",
        "  y_test = df_test.median_house_value.values\n",
        "\n",
        "  # Delete median_house_value columns\n",
        "  del df_train['median_house_value']\n",
        "  del df_val['median_house_value']\n",
        "  del df_test['median_house_value']\n",
        "\n",
        "  # Convert to dictionary\n",
        "  train_dict = df_train.to_dict(orient='records')\n",
        "  val_dict = df_val.to_dict(orient='records')\n",
        "\n",
        "  # Instantiate a dict vectoriser\n",
        "  dv = DictVectorizer(sparse=False)\n",
        "\n",
        "  # Fit and transform dictionaries with dv\n",
        "  X_train = dv.fit_transform(train_dict)\n",
        "  X_val = dv.fit_transform(val_dict)\n",
        "\n",
        "  # Instantiate logistic regression\n",
        "  model = Ridge(alpha=a, solver=\"sag\", random_state=42)\n",
        "\n",
        "  # Fit model on data\n",
        "  model.fit(X_train, y_train)\n",
        "\n",
        "  # Compute val predictions\n",
        "  pred_val = model.predict(X_val)\n",
        "\n",
        "   # Compute val mean squared error\n",
        "  mse_val = mean_squared_error(y_val, pred_val)\n",
        "\n",
        "  return round(np.sqrt(mse_val), 3)"
      ],
      "metadata": {
        "id": "_Qn54IH8-jIZ"
      },
      "execution_count": 93,
      "outputs": []
    },
    {
      "cell_type": "code",
      "source": [
        "alpha = [0, 0.01, 0.1, 1, 10]\n",
        "for a in alpha:\n",
        "  print('RMSE for alpha = ', a, ':', ridge_rmse(a))"
      ],
      "metadata": {
        "colab": {
          "base_uri": "https://localhost:8080/"
        },
        "id": "3RPHrBzfjQGU",
        "outputId": "28dea0b5-29b8-465c-e9d4-32ba0999df6d"
      },
      "execution_count": 99,
      "outputs": [
        {
          "output_type": "stream",
          "name": "stdout",
          "text": [
            "RMSE for alpha =  0 : 0.524\n",
            "RMSE for alpha =  0.01 : 0.524\n",
            "RMSE for alpha =  0.1 : 0.524\n",
            "RMSE for alpha =  1 : 0.524\n",
            "RMSE for alpha =  10 : 0.524\n"
          ]
        }
      ]
    },
    {
      "cell_type": "markdown",
      "source": [
        "Answer: All"
      ],
      "metadata": {
        "id": "RQR6f7JZhrZ1"
      }
    }
  ]
}