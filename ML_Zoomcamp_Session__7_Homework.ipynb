{
  "cells": [
    {
      "cell_type": "markdown",
      "metadata": {
        "id": "view-in-github",
        "colab_type": "text"
      },
      "source": [
        "<a href=\"https://colab.research.google.com/github/subair99/ML_Zoomcamp_2022/blob/main/ML_Zoomcamp_Session__7_Homework.ipynb\" target=\"_parent\"><img src=\"https://colab.research.google.com/assets/colab-badge.svg\" alt=\"Open In Colab\"/></a>"
      ]
    },
    {
      "cell_type": "code",
      "execution_count": null,
      "id": "113bca8f",
      "metadata": {
        "id": "113bca8f"
      },
      "outputs": [],
      "source": [
        "import pandas as pd\n",
        "import numpy as np\n",
        "\n",
        "from sklearn.model_selection import train_test_split\n",
        "from sklearn.feature_extraction import DictVectorizer\n",
        "\n",
        "from sklearn.ensemble import RandomForestClassifier\n",
        "\n",
        "import xgboost as xgb"
      ]
    },
    {
      "cell_type": "markdown",
      "id": "c50f55e7",
      "metadata": {
        "id": "c50f55e7"
      },
      "source": [
        "### Data preparation"
      ]
    },
    {
      "cell_type": "code",
      "execution_count": null,
      "id": "6cb9b032",
      "metadata": {
        "id": "6cb9b032"
      },
      "outputs": [],
      "source": [
        "data = 'ML_Zoomcamp_Session_#7_data.csv'\n",
        "df = pd.read_csv(data)"
      ]
    },
    {
      "cell_type": "code",
      "execution_count": null,
      "id": "9bd4599f",
      "metadata": {
        "id": "9bd4599f"
      },
      "outputs": [],
      "source": [
        "df.columns = df.columns.str.lower()\n",
        "\n",
        "status_values = {\n",
        "    1: 'ok',\n",
        "    2: 'default',\n",
        "    0: 'unk'\n",
        "}\n",
        "\n",
        "df.status = df.status.map(status_values)\n",
        "\n",
        "home_values = {\n",
        "    1: 'rent',\n",
        "    2: 'owner',\n",
        "    3: 'private',\n",
        "    4: 'ignore',\n",
        "    5: 'parents',\n",
        "    6: 'other',\n",
        "    0: 'unk'\n",
        "}\n",
        "\n",
        "df.home = df.home.map(home_values)\n",
        "\n",
        "marital_values = {\n",
        "    1: 'single',\n",
        "    2: 'married',\n",
        "    3: 'widow',\n",
        "    4: 'separated',\n",
        "    5: 'divorced',\n",
        "    0: 'unk'\n",
        "}\n",
        "\n",
        "df.marital = df.marital.map(marital_values)\n",
        "\n",
        "records_values = {\n",
        "    1: 'no',\n",
        "    2: 'yes',\n",
        "    0: 'unk'\n",
        "}\n",
        "\n",
        "df.records = df.records.map(records_values)\n",
        "\n",
        "job_values = {\n",
        "    1: 'fixed',\n",
        "    2: 'partime',\n",
        "    3: 'freelance',\n",
        "    4: 'others',\n",
        "    0: 'unk'\n",
        "}\n",
        "\n",
        "df.job = df.job.map(job_values)\n",
        "\n",
        "for c in ['income', 'assets', 'debt']:\n",
        "    df[c] = df[c].replace(to_replace=99999999, value=np.nan)\n",
        "\n",
        "df = df[df.status != 'unk'].reset_index(drop=True)"
      ]
    },
    {
      "cell_type": "code",
      "execution_count": null,
      "id": "9d3bdd0f",
      "metadata": {
        "id": "9d3bdd0f"
      },
      "outputs": [],
      "source": [
        "df_train, df_test = train_test_split(df, test_size=0.2, random_state=11)\n",
        "\n",
        "df_train = df_train.reset_index(drop=True)\n",
        "df_test = df_test.reset_index(drop=True)\n",
        "\n",
        "y_train = (df_train.status == 'default').astype('int').values\n",
        "y_test = (df_test.status == 'default').astype('int').values\n",
        "\n",
        "del df_train['status']\n",
        "del df_test['status']"
      ]
    },
    {
      "cell_type": "code",
      "execution_count": null,
      "id": "b301e51d",
      "metadata": {
        "id": "b301e51d"
      },
      "outputs": [],
      "source": [
        "dv = DictVectorizer(sparse=False)\n",
        "\n",
        "train_dicts = df_train.fillna(0).to_dict(orient='records')\n",
        "X_train = dv.fit_transform(train_dicts)\n",
        "\n",
        "test_dicts = df_test.fillna(0).to_dict(orient='records')\n",
        "X_test = dv.transform(test_dicts)"
      ]
    },
    {
      "cell_type": "markdown",
      "id": "f5222899",
      "metadata": {
        "id": "f5222899"
      },
      "source": [
        "### Random forest"
      ]
    },
    {
      "cell_type": "code",
      "execution_count": null,
      "id": "d3656cfa",
      "metadata": {
        "id": "d3656cfa",
        "outputId": "b5134015-440f-48f4-f68d-2522cae85572"
      },
      "outputs": [
        {
          "data": {
            "text/plain": [
              "RandomForestClassifier(max_depth=10, min_samples_leaf=3, n_estimators=200,\n",
              "                       random_state=1)"
            ]
          },
          "execution_count": 59,
          "metadata": {},
          "output_type": "execute_result"
        }
      ],
      "source": [
        "rf = RandomForestClassifier(n_estimators=200,\n",
        "                            max_depth=10,\n",
        "                            min_samples_leaf=3,\n",
        "                            random_state=1)\n",
        "rf.fit(X_train, y_train)"
      ]
    },
    {
      "cell_type": "markdown",
      "id": "7a66af8c",
      "metadata": {
        "id": "7a66af8c"
      },
      "source": [
        "### XGBoost\n",
        "\n",
        "Note:We removed feature names\n",
        "\n",
        "\n",
        "It was:\n",
        "\n",
        "features = dv.get_feature_names_out()\n",
        "dtrain = xgb.DMatrix(X_train, label=y_train, feature_names=features)\n",
        "\n",
        "\n",
        "Now it's:\n",
        "\n",
        "dtrain = xgb.DMatrix(X_train, label=y_train)"
      ]
    },
    {
      "cell_type": "code",
      "execution_count": null,
      "id": "da9ad186",
      "metadata": {
        "id": "da9ad186",
        "outputId": "f97c3cf0-e80b-4b93-ed8c-56e789a33602"
      },
      "outputs": [
        {
          "data": {
            "text/plain": [
              "array([4.80e+01, 1.00e+03, 3.00e+03, 0.00e+00, 6.00e+01, 0.00e+00,\n",
              "       0.00e+00, 1.00e+00, 0.00e+00, 0.00e+00, 0.00e+00, 0.00e+00,\n",
              "       1.10e+02, 1.00e+00, 0.00e+00, 0.00e+00, 0.00e+00, 0.00e+00,\n",
              "       0.00e+00, 1.00e+00, 0.00e+00, 0.00e+00, 0.00e+00, 0.00e+00,\n",
              "       1.46e+03, 1.00e+00, 0.00e+00, 2.20e+01, 4.80e+01])"
            ]
          },
          "execution_count": 92,
          "metadata": {},
          "output_type": "execute_result"
        }
      ],
      "source": [
        "X_train[0]"
      ]
    },
    {
      "cell_type": "code",
      "execution_count": null,
      "id": "b3e44f8f",
      "metadata": {
        "id": "b3e44f8f"
      },
      "outputs": [],
      "source": [
        "xgb_params = {\n",
        "    'eta': 0.1, \n",
        "    'max_depth': 3,\n",
        "    'min_child_weight': 1,\n",
        "\n",
        "    'objective': 'binary:logistic',\n",
        "    'eval_metric': 'auc',\n",
        "\n",
        "    'nthread': 8,\n",
        "    'seed': 1,\n",
        "    'verbosity': 1,\n",
        "}\n",
        "\n",
        "model = xgb.train(xgb_params, dtrain, num_boost_round=175)"
      ]
    },
    {
      "cell_type": "markdown",
      "id": "00877e6b",
      "metadata": {
        "id": "00877e6b"
      },
      "source": [
        "### BentoML"
      ]
    },
    {
      "cell_type": "code",
      "execution_count": null,
      "id": "2c6f8649",
      "metadata": {
        "id": "2c6f8649"
      },
      "outputs": [],
      "source": [
        "import bentoml"
      ]
    },
    {
      "cell_type": "code",
      "execution_count": null,
      "id": "474a8a92",
      "metadata": {
        "id": "474a8a92",
        "outputId": "574196e1-6e8a-403d-fed9-70d1c5ba7464"
      },
      "outputs": [
        {
          "data": {
            "text/plain": [
              "Model(tag=\"credit_risk_model:3bc6k52sfomfp4a7\", path=\"C:\\Users\\a\\bentoml\\models\\credit_risk_model\\3bc6k52sfomfp4a7\\\")"
            ]
          },
          "execution_count": 63,
          "metadata": {},
          "output_type": "execute_result"
        }
      ],
      "source": [
        "bentoml.xgboost.save_model(\n",
        "    'credit_risk_model',\n",
        "    model,\n",
        "    custom_objects={\n",
        "        'dictVectorizer': dv\n",
        "    })"
      ]
    },
    {
      "cell_type": "markdown",
      "id": "a66e8e4b",
      "metadata": {
        "id": "a66e8e4b"
      },
      "source": [
        "### Test"
      ]
    },
    {
      "cell_type": "code",
      "execution_count": null,
      "id": "b7519352",
      "metadata": {
        "id": "b7519352"
      },
      "outputs": [],
      "source": [
        "import json"
      ]
    },
    {
      "cell_type": "code",
      "execution_count": null,
      "id": "cdf6e828",
      "metadata": {
        "id": "cdf6e828"
      },
      "outputs": [],
      "source": [
        "request = df_test.iloc[0].to_dict()\n",
        "print(json.dumps(request, indent=2))"
      ]
    },
    {
      "cell_type": "code",
      "execution_count": null,
      "id": "fc82a7ef",
      "metadata": {
        "id": "fc82a7ef"
      },
      "outputs": [],
      "source": [
        "{\n",
        "  \"seniority\": 3,\n",
        "  \"home\": \"owner\",\n",
        "  \"time\": 36,\n",
        "  \"age\": 26,\n",
        "  \"marital\": \"single\",\n",
        "  \"records\": \"no\",\n",
        "  \"job\": \"freelance\",\n",
        "  \"expenses\": 35,\n",
        "  \"income\": 0,\n",
        "  \"assets\": 60000,\n",
        "  \"debt\": 3000,\n",
        "  \"amount\": 800,\n",
        "  \"price\": 1000\n",
        "}"
      ]
    },
    {
      "cell_type": "markdown",
      "id": "42cdf393",
      "metadata": {
        "id": "42cdf393"
      },
      "source": [
        "### HOMEWORK\n",
        "Note: sometimes your answer might not match one of the options exactly. That's fine. Select the option that's closest to your solution.\n",
        "\n",
        "The goal of this homework is to familiarize you with BentoML and how to build and test an ML production service.\n",
        "\n",
        "### Background\n",
        "You are a new recruit at ACME corp. Your manager is emailing you about your first assignment.\n",
        "\n",
        "### Email from your manager\n",
        "Good morning recruit! It's good to have you here! I have an assignment for you. I have a data scientist that's built a credit risk model in a jupyter notebook. I need you to run the notebook and save the model with BentoML and see how big the model is. If it's greater than a certain size, I'm going to have to request additional resources from our infra team. Please let me know how big it is.\n",
        "\n",
        "Thanks,\n",
        "\n",
        "Mr McManager"
      ]
    },
    {
      "cell_type": "markdown",
      "id": "cdfdd432",
      "metadata": {
        "id": "cdfdd432"
      },
      "source": [
        "### Question 1\n",
        "1. Install BentoML\n",
        "2. What's the version of BentoML you installed?\n",
        "3. Use --version to find out"
      ]
    },
    {
      "cell_type": "markdown",
      "id": "2eec132c",
      "metadata": {
        "id": "2eec132c"
      },
      "source": [
        "![image.png](data:image/png;base64,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)"
      ]
    },
    {
      "cell_type": "markdown",
      "id": "578e3ece",
      "metadata": {
        "id": "578e3ece"
      },
      "source": [
        "Answer: 1.0.7"
      ]
    },
    {
      "cell_type": "markdown",
      "id": "0ada163f",
      "metadata": {
        "id": "0ada163f"
      },
      "source": [
        "### Question 2\n",
        "Run the notebook which contains the xgboost model from module 6 i.e previous module and save the xgboost model with BentoML. To make it easier for you we have prepared this notebook.\n",
        "\n",
        "How big approximately is the saved BentoML model? Size can slightly vary depending on your local development environment. Choose the size closest to your model.\n",
        "\n",
        "1. 924kb\n",
        "2. 724kb\n",
        "3. 114kb\n",
        "4. 8kb"
      ]
    },
    {
      "cell_type": "markdown",
      "id": "e6406d23",
      "metadata": {
        "id": "e6406d23"
      },
      "source": [
        "![image.png](data:image/png;base64,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)"
      ]
    },
    {
      "cell_type": "markdown",
      "id": "b63bbb02",
      "metadata": {
        "id": "b63bbb02"
      },
      "source": [
        "Answer: 114kb"
      ]
    },
    {
      "cell_type": "markdown",
      "id": "ad8e6271",
      "metadata": {
        "id": "ad8e6271"
      },
      "source": [
        "### Another email from your manager\n",
        "Great job recruit! Looks like I won't be having to go back to the procurement team. Thanks for the information.\n",
        "\n",
        "However, I just got word from one of the teams that's using one of our ML services and they're saying our service is \"broken\" and their trying to blame our model. I looked at the data their sending and it's completely bogus. I don't want them to send bad data to us and blame us for our models. Could you write a pydantic schema for the data that they should be sending? That way next time it will tell them it's their data that's bad and not our model.\n",
        "\n",
        "Thanks,\n",
        "\n",
        "Mr McManager"
      ]
    },
    {
      "cell_type": "markdown",
      "id": "f8c9b233",
      "metadata": {
        "id": "f8c9b233"
      },
      "source": [
        "### Question 3\n",
        "Say you have the following data that you're sending to your service:\n",
        "\n",
        "    {\n",
        "      \"name\": \"Tim\",\n",
        "      \"age\": 37,\n",
        "      \"country\": \"US\",\n",
        "      \"rating\": 3.14\n",
        "    }\n",
        "\n",
        "What would the pydantic class look like? You can name the class UserProfile."
      ]
    },
    {
      "cell_type": "markdown",
      "id": "941b742b",
      "metadata": {
        "id": "941b742b"
      },
      "source": [
        "Answer:\n",
        "\n",
        "The pydantic model would look like:\n",
        "\n",
        "class CreditApplication(BaseModel):\n",
        "\tname: str\t\n",
        "\tage: int\n",
        "\tcountry: str\n",
        "\trating: float"
      ]
    },
    {
      "cell_type": "markdown",
      "id": "961aa26c",
      "metadata": {
        "id": "961aa26c"
      },
      "source": [
        "### Email from your CEO\n",
        "Good morning! I hear you're the one to go to if I need something done well! We've got a new model that a big client needs deployed ASAP. I need you to build a service with it and test it against the old model and make sure that it performs better, otherwise we're going to lose this client. All our hopes are with you!\n",
        "\n",
        "Thanks,\n",
        "\n",
        "CEO of Acme Corp"
      ]
    },
    {
      "cell_type": "markdown",
      "id": "a35a8134",
      "metadata": {
        "id": "a35a8134"
      },
      "source": [
        "### Question 4\n",
        "We've prepared a model for you that you can import using:\n",
        "\n",
        "curl -O https://s3.us-west-2.amazonaws.com/bentoml.com/mlzoomcamp/coolmodel.bentomodel\n",
        "bentoml models import coolmodel.bentomodel\n",
        "What version of scikit-learn was this model trained with?\n",
        "\n",
        "    1. 1.1.1\n",
        "    2. 1.1.2\n",
        "    3. 1.1.3\n",
        "    4. 1.1.4\n",
        "    5. 1.1.5"
      ]
    },
    {
      "cell_type": "markdown",
      "id": "11d7b817",
      "metadata": {
        "id": "11d7b817"
      },
      "source": [
        "![image.png](data:image/png;base64,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)"
      ]
    },
    {
      "cell_type": "markdown",
      "id": "55df7c3c",
      "metadata": {
        "id": "55df7c3c"
      },
      "source": [
        "Answer: 1.1.1"
      ]
    },
    {
      "cell_type": "markdown",
      "id": "6b1335b7",
      "metadata": {
        "id": "6b1335b7"
      },
      "source": [
        "### Question 5\n",
        "Create a bento out of this scikit-learn model. The output type for this endpoint should be NumpyNdarray()\n",
        "\n",
        "Send this array to the Bento:\n",
        "\n",
        "    [[6.4,3.5,4.5,1.2]]\n",
        "\n",
        "You can use curl or the Swagger UI. What value does it return?\n",
        "\n",
        "    1. 0\n",
        "    2. 1\n",
        "    3. 2\n",
        "    4. 3\n",
        "    \n",
        "(Make sure your environment has Scikit-Learn installed)"
      ]
    },
    {
      "cell_type": "markdown",
      "id": "103c75e6",
      "metadata": {
        "id": "103c75e6"
      },
      "source": [
        "![image.png](data:image/png;base64,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)\n",
        "\n",
        "\n",
        "![image.png](data:image/png;base64,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)\n",
        "\n",
        "\n",
        "![image.png](data:image/png;base64,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)"
      ]
    },
    {
      "cell_type": "markdown",
      "id": "ec36471f",
      "metadata": {
        "id": "ec36471f"
      },
      "source": [
        "Answer: 1"
      ]
    },
    {
      "cell_type": "markdown",
      "id": "c7fb73f2",
      "metadata": {
        "id": "c7fb73f2"
      },
      "source": [
        "### Question 6\n",
        "Ensure to serve your bento with --production for this question\n",
        "\n",
        "Install locust using:\n",
        "\n",
        "    pip install locust\n",
        "\n",
        "Use the following locust file: locustfile.py\n",
        "\n",
        "Ensure that it is pointed at your bento's endpoint (In case you didn't name your endpoint \"classify\")\n",
        "\n",
        "![image.png](data:image/png;base64,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)\n",
        "\n",
        "Configure 100 users with ramp time of 10 users per second. Click \"Start Swarming\" and ensure that it is working.\n",
        "\n",
        "Now download a second model with this command:\n",
        "\n",
        "    curl -O https://s3.us-west-2.amazonaws.com/bentoml.com/mlzoomcamp/coolmodel2.bentomodel\n",
        "\n",
        "Or you can download with this link as well: https://s3.us-west-2.amazonaws.com/bentoml.com/mlzoomcamp/coolmodel2.bentomodel\n",
        "\n",
        "Now import the model:\n",
        "\n",
        "    bentoml models import coolmodel2.bentomodel\n",
        "    \n",
        "Update your bento's runner tag and test with both models. Which model allows more traffic (more throughput) as you ramp up the traffic?\n",
        "\n",
        "Hint 1: Remember to turn off and turn on your bento service between changing the model tag. Use Ctl-C to close the service in between trials.\n",
        "\n",
        "Hint 2: Increase the number of concurrent users to see which one has higher throughput\n",
        "\n",
        "Which model has better performance at higher volumes?\n",
        "\n",
        "The first model\n",
        "The second model"
      ]
    },
    {
      "cell_type": "markdown",
      "id": "58580b80",
      "metadata": {
        "id": "58580b80"
      },
      "source": [
        "Answer: The second model"
      ]
    },
    {
      "cell_type": "markdown",
      "id": "9c168411",
      "metadata": {
        "id": "9c168411"
      },
      "source": [
        "### Email from marketing\n",
        "Hello ML person! I hope this email finds you well. I've heard there's this cool new ML model called Stable Diffusion. I hear if you give it a description of a picture it will generate an image. We need a new company logo and I want it to be fierce but also cool, think you could help out?\n",
        "\n",
        "Thanks,\n",
        "\n",
        "Mike Marketer"
      ]
    }
  ],
  "metadata": {
    "kernelspec": {
      "display_name": "Python 3",
      "language": "python",
      "name": "python3"
    },
    "language_info": {
      "codemirror_mode": {
        "name": "ipython",
        "version": 3
      },
      "file_extension": ".py",
      "mimetype": "text/x-python",
      "name": "python",
      "nbconvert_exporter": "python",
      "pygments_lexer": "ipython3",
      "version": "3.8.8"
    },
    "colab": {
      "provenance": [],
      "include_colab_link": true
    }
  },
  "nbformat": 4,
  "nbformat_minor": 5
}